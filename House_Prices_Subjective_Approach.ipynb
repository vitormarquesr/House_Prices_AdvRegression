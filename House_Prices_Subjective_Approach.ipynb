{
 "cells": [
  {
   "cell_type": "code",
   "execution_count": 399,
   "id": "1d6975f5",
   "metadata": {},
   "outputs": [],
   "source": [
    "%matplotlib inline\n",
    "import pandas as pd\n",
    "import numpy as np\n",
    "import matplotlib.pyplot as plt\n",
    "import seaborn as sns\n",
    "from sklearn.compose import ColumnTransformer\n",
    "from sklearn.pipeline import Pipeline\n",
    "from sklearn.ensemble import RandomForestRegressor, ExtraTreesRegressor\n",
    "from sklearn.impute import SimpleImputer\n",
    "from sklearn.base import TransformerMixin, BaseEstimator\n",
    "from sklearn.preprocessing import StandardScaler\n",
    "from sklearn.model_selection import RandomizedSearchCV, cross_val_score\n",
    "from scipy.stats.distributions import randint, uniform\n",
    "import category_encoders as ce\n",
    "import warnings"
   ]
  },
  {
   "cell_type": "markdown",
   "id": "9cda7e5b",
   "metadata": {},
   "source": [
    "# Strategy"
   ]
  },
  {
   "cell_type": "markdown",
   "id": "2a031b9e",
   "metadata": {},
   "source": [
    "* Target Encode Nominal features with high cardinality\n",
    "* One Hot encode just a few nominal features not to add sparsity to the dataset\n",
    "* Use Extra Trees instead of Random Forest\n",
    "* Keep **max_features** hyperparameter below 0.65 to increase diversity among trees given that there is a lot of multicolinearity\n",
    "* High **n_estimators** to add stability to the forest"
   ]
  },
  {
   "cell_type": "code",
   "execution_count": 400,
   "id": "16c6641c",
   "metadata": {},
   "outputs": [],
   "source": [
    "warnings.filterwarnings('ignore')"
   ]
  },
  {
   "cell_type": "code",
   "execution_count": 2,
   "id": "665bb328",
   "metadata": {},
   "outputs": [],
   "source": [
    "df = pd.read_csv('train.csv')"
   ]
  },
  {
   "cell_type": "code",
   "execution_count": 3,
   "id": "8b5da220",
   "metadata": {},
   "outputs": [],
   "source": [
    "X = df.drop(['SalePrice'], axis=1)\n",
    "y = df['SalePrice']"
   ]
  },
  {
   "cell_type": "code",
   "execution_count": 282,
   "id": "7817a5ab",
   "metadata": {},
   "outputs": [],
   "source": [
    "def write_test(mod,name):\n",
    "    df_t = pd.read_csv('test.csv')\n",
    "    df_pred = pd.concat([df_t.Id, pd.Series(mod.predict(df_t), name='SalePrice')], axis=1)\n",
    "    df_pred.to_csv(name, index=False)"
   ]
  },
  {
   "cell_type": "code",
   "execution_count": 862,
   "id": "3037f44e",
   "metadata": {},
   "outputs": [],
   "source": [
    "cols_subjective = ['OverallQual', 'OverallCond', 'ExterQual', 'ExterCond', 'BsmtQual', 'BsmtCond',\n",
    "                  'BsmtExposure', 'BsmtFinType1', 'HeatingQC', 'KitchenQual', 'FireplaceQu',\n",
    "                  'GarageQual','GarageCond', 'Fence']\n",
    "#Ou só manter 1stFlr e 2nd Floor\n",
    "cols_SF = ['House_Age', 'GrLivArea', '1stFlrSF', '2ndFlrSF', 'BsmtFinSF1', 'GarageArea']\n",
    "cols_int = ['TotRmsAbvGrd', 'KitchenAbvGr', 'BedroomAbvGr', 'FullBath', 'BsmtFullBath', 'GarageCars']"
   ]
  },
  {
   "cell_type": "code",
   "execution_count": 872,
   "id": "581eb469",
   "metadata": {},
   "outputs": [],
   "source": [
    "pipe_pre = ColumnTransformer([\n",
    "    ('Already_Encoded_Subjective', 'passthrough', ['OverallQual', 'OverallCond']),\n",
    "    ('Encode_Subjective', ce.OrdinalEncoder(drop_invariant=True,\n",
    "                                           mapping = [\n",
    "                                            {'col':'ExterQual', 'mapping':{'Po':0, 'Fa':1, 'TA':2, 'Gd':3, 'Ex':4}},\n",
    "                                            #{'col':'ExterCond', 'mapping':{'Po':0, 'Fa':1, 'TA':2, 'Gd':3, 'Ex':4}},\n",
    "                                            {'col':'BsmtQual', 'mapping':{np.nan:0, 'Po':1, 'Fa':2, 'TA':3, 'Gd':4, 'Ex':5}},\n",
    "                                            #{'col':'BsmtCond', 'mapping':{np.nan:0, 'Po':1, 'Fa':2, 'TA':3, 'Gd':4, 'Ex':5}},\n",
    "                                            {'col':'BsmtExposure', 'mapping':{np.nan:0, 'No':1, 'Mn':2, 'Av':3, 'Gd':4}},\n",
    "                                            {'col':'BsmtFinType1', 'mapping':{np.nan:0, 'Unf':1, 'LwQ':2, 'Rec':3, 'BLQ':4,'ALQ':5, 'GLQ':6}},\n",
    "                                            #{'col':'BsmtFinType2', 'mapping:':{np.nan:0, 'Unf':1, 'LwQ':2, 'Rec':3, 'BLQ':4,'ALQ':5, 'GLQ':6}},\n",
    "                                            {'col':'HeatingQC', 'mapping':{'Po':0, 'Fa':1, 'TA':2, 'Gd':3, 'Ex':4}},\n",
    "                                            {'col':'KitchenQual', 'mapping':{'Po':0, 'Fa':1, 'TA':2, 'Gd':3, 'Ex':4}},\n",
    "                                            {'col':'FireplaceQu', 'mapping':{np.nan:0, 'Po':1, 'Fa':2, 'TA':3, 'Gd':4, 'Ex':5}},\n",
    "                                            {'col':'GarageQual', 'mapping':{np.nan:0, 'Po':1, 'Fa':2, 'TA':3, 'Gd':4, 'Ex':5}},\n",
    "                                            #{'col':'GarageCond', 'mapping':{np.nan:0, 'Po':1, 'Fa':2, 'TA':3, 'Gd':4, 'Ex':5}},\n",
    "                                            {'col':'Fence', 'mapping':{np.nan:0, 'MnWw':1, 'GdWo':2, 'MnPrv':3, 'GdPrv':4}}\n",
    "                                                     ]),\n",
    "    ['ExterQual', #'ExterCond', \n",
    "     'BsmtQual', #'BsmtCond', \n",
    "     'BsmtExposure', 'BsmtFinType1', 'HeatingQC', 'KitchenQual', 'FireplaceQu', 'GarageQual', \n",
    "     #'GarageCond', \n",
    "     'Fence']),\n",
    "    ('Measures', 'passthrough', ['YearBuilt', 'GrLivArea', '1stFlrSF', 'BsmtFinSF1']),\n",
    "    ('Integers', 'passthrough', ['TotRmsAbvGrd', 'KitchenAbvGr', 'BedroomAbvGr', 'FullBath', 'BsmtFullBath', 'GarageCars']),\n",
    "    ('OneHot', ce.OneHotEncoder(), ['SaleCondition', 'SaleType', 'BldgType']),\n",
    "    ('Target', ce.TargetEncoder(), ['MSZoning', 'Neighborhood', 'Condition1',  'MSSubClass',])\n",
    "])                                            "
   ]
  },
  {
   "cell_type": "code",
   "execution_count": 873,
   "id": "cf8fe817",
   "metadata": {},
   "outputs": [],
   "source": [
    "pipe_pred = Pipeline([\n",
    " ('Process', pipe_pre),\n",
    " ('Impute', SimpleImputer(strategy='median')),\n",
    " ('Model', ExtraTreesRegressor(n_jobs=-1))\n",
    "])"
   ]
  },
  {
   "cell_type": "code",
   "execution_count": 936,
   "id": "7a8a0f6a",
   "metadata": {},
   "outputs": [],
   "source": [
    "param_d = {\n",
    "    'Model__n_estimators':[200],\n",
    "    'Model__max_features':uniform(0.62, 0.01),\n",
    "}"
   ]
  },
  {
   "cell_type": "code",
   "execution_count": 937,
   "id": "381b95f2",
   "metadata": {},
   "outputs": [],
   "source": [
    "grid_RF = RandomizedSearchCV(pipe_pred, param_d, cv=10, scoring='neg_mean_squared_log_error', n_iter=15,\n",
    "                            verbose=4)"
   ]
  },
  {
   "cell_type": "code",
   "execution_count": 938,
   "id": "97558692",
   "metadata": {},
   "outputs": [
    {
     "name": "stdout",
     "output_type": "stream",
     "text": [
      "Fitting 10 folds for each of 15 candidates, totalling 150 fits\n",
      "[CV 1/10] END Model__max_features=0.6230859882890797, Model__n_estimators=200;, score=-0.018 total time=   0.8s\n",
      "[CV 2/10] END Model__max_features=0.6230859882890797, Model__n_estimators=200;, score=-0.012 total time=   0.8s\n",
      "[CV 3/10] END Model__max_features=0.6230859882890797, Model__n_estimators=200;, score=-0.019 total time=   0.8s\n",
      "[CV 4/10] END Model__max_features=0.6230859882890797, Model__n_estimators=200;, score=-0.029 total time=   0.7s\n",
      "[CV 5/10] END Model__max_features=0.6230859882890797, Model__n_estimators=200;, score=-0.025 total time=   0.8s\n",
      "[CV 6/10] END Model__max_features=0.6230859882890797, Model__n_estimators=200;, score=-0.012 total time=   0.8s\n",
      "[CV 7/10] END Model__max_features=0.6230859882890797, Model__n_estimators=200;, score=-0.017 total time=   0.9s\n",
      "[CV 8/10] END Model__max_features=0.6230859882890797, Model__n_estimators=200;, score=-0.013 total time=   0.7s\n",
      "[CV 9/10] END Model__max_features=0.6230859882890797, Model__n_estimators=200;, score=-0.014 total time=   0.8s\n",
      "[CV 10/10] END Model__max_features=0.6230859882890797, Model__n_estimators=200;, score=-0.021 total time=   0.8s\n",
      "[CV 1/10] END Model__max_features=0.6280041909012188, Model__n_estimators=200;, score=-0.019 total time=   0.8s\n",
      "[CV 2/10] END Model__max_features=0.6280041909012188, Model__n_estimators=200;, score=-0.013 total time=   1.0s\n",
      "[CV 3/10] END Model__max_features=0.6280041909012188, Model__n_estimators=200;, score=-0.018 total time=   1.0s\n",
      "[CV 4/10] END Model__max_features=0.6280041909012188, Model__n_estimators=200;, score=-0.029 total time=   1.2s\n",
      "[CV 5/10] END Model__max_features=0.6280041909012188, Model__n_estimators=200;, score=-0.025 total time=   1.3s\n",
      "[CV 6/10] END Model__max_features=0.6280041909012188, Model__n_estimators=200;, score=-0.013 total time=   1.1s\n",
      "[CV 7/10] END Model__max_features=0.6280041909012188, Model__n_estimators=200;, score=-0.017 total time=   0.9s\n",
      "[CV 8/10] END Model__max_features=0.6280041909012188, Model__n_estimators=200;, score=-0.015 total time=   1.0s\n",
      "[CV 9/10] END Model__max_features=0.6280041909012188, Model__n_estimators=200;, score=-0.013 total time=   1.0s\n",
      "[CV 10/10] END Model__max_features=0.6280041909012188, Model__n_estimators=200;, score=-0.021 total time=   1.1s\n",
      "[CV 1/10] END Model__max_features=0.6261093702773788, Model__n_estimators=200;, score=-0.019 total time=   1.2s\n",
      "[CV 2/10] END Model__max_features=0.6261093702773788, Model__n_estimators=200;, score=-0.013 total time=   1.0s\n",
      "[CV 3/10] END Model__max_features=0.6261093702773788, Model__n_estimators=200;, score=-0.018 total time=   1.0s\n",
      "[CV 4/10] END Model__max_features=0.6261093702773788, Model__n_estimators=200;, score=-0.029 total time=   1.0s\n",
      "[CV 5/10] END Model__max_features=0.6261093702773788, Model__n_estimators=200;, score=-0.025 total time=   1.0s\n",
      "[CV 6/10] END Model__max_features=0.6261093702773788, Model__n_estimators=200;, score=-0.012 total time=   0.9s\n",
      "[CV 7/10] END Model__max_features=0.6261093702773788, Model__n_estimators=200;, score=-0.018 total time=   1.0s\n",
      "[CV 8/10] END Model__max_features=0.6261093702773788, Model__n_estimators=200;, score=-0.015 total time=   1.3s\n",
      "[CV 9/10] END Model__max_features=0.6261093702773788, Model__n_estimators=200;, score=-0.013 total time=   1.1s\n",
      "[CV 10/10] END Model__max_features=0.6261093702773788, Model__n_estimators=200;, score=-0.021 total time=   1.0s\n",
      "[CV 1/10] END Model__max_features=0.6287228676129673, Model__n_estimators=200;, score=-0.018 total time=   1.0s\n",
      "[CV 2/10] END Model__max_features=0.6287228676129673, Model__n_estimators=200;, score=-0.013 total time=   1.0s\n",
      "[CV 3/10] END Model__max_features=0.6287228676129673, Model__n_estimators=200;, score=-0.018 total time=   1.0s\n",
      "[CV 4/10] END Model__max_features=0.6287228676129673, Model__n_estimators=200;, score=-0.028 total time=   1.0s\n",
      "[CV 5/10] END Model__max_features=0.6287228676129673, Model__n_estimators=200;, score=-0.026 total time=   1.1s\n",
      "[CV 6/10] END Model__max_features=0.6287228676129673, Model__n_estimators=200;, score=-0.013 total time=   1.0s\n",
      "[CV 7/10] END Model__max_features=0.6287228676129673, Model__n_estimators=200;, score=-0.017 total time=   1.0s\n",
      "[CV 8/10] END Model__max_features=0.6287228676129673, Model__n_estimators=200;, score=-0.014 total time=   0.9s\n",
      "[CV 9/10] END Model__max_features=0.6287228676129673, Model__n_estimators=200;, score=-0.014 total time=   1.0s\n",
      "[CV 10/10] END Model__max_features=0.6287228676129673, Model__n_estimators=200;, score=-0.021 total time=   1.0s\n",
      "[CV 1/10] END Model__max_features=0.621428463724267, Model__n_estimators=200;, score=-0.019 total time=   1.2s\n",
      "[CV 2/10] END Model__max_features=0.621428463724267, Model__n_estimators=200;, score=-0.013 total time=   1.2s\n",
      "[CV 3/10] END Model__max_features=0.621428463724267, Model__n_estimators=200;, score=-0.018 total time=   1.1s\n",
      "[CV 4/10] END Model__max_features=0.621428463724267, Model__n_estimators=200;, score=-0.030 total time=   1.0s\n",
      "[CV 5/10] END Model__max_features=0.621428463724267, Model__n_estimators=200;, score=-0.025 total time=   1.0s\n",
      "[CV 6/10] END Model__max_features=0.621428463724267, Model__n_estimators=200;, score=-0.013 total time=   0.9s\n",
      "[CV 7/10] END Model__max_features=0.621428463724267, Model__n_estimators=200;, score=-0.018 total time=   1.0s\n",
      "[CV 8/10] END Model__max_features=0.621428463724267, Model__n_estimators=200;, score=-0.014 total time=   1.0s\n",
      "[CV 9/10] END Model__max_features=0.621428463724267, Model__n_estimators=200;, score=-0.014 total time=   1.0s\n",
      "[CV 10/10] END Model__max_features=0.621428463724267, Model__n_estimators=200;, score=-0.021 total time=   1.0s\n",
      "[CV 1/10] END Model__max_features=0.6279226120575965, Model__n_estimators=200;, score=-0.019 total time=   1.0s\n",
      "[CV 2/10] END Model__max_features=0.6279226120575965, Model__n_estimators=200;, score=-0.013 total time=   1.0s\n",
      "[CV 3/10] END Model__max_features=0.6279226120575965, Model__n_estimators=200;, score=-0.018 total time=   1.0s\n",
      "[CV 4/10] END Model__max_features=0.6279226120575965, Model__n_estimators=200;, score=-0.029 total time=   0.9s\n",
      "[CV 5/10] END Model__max_features=0.6279226120575965, Model__n_estimators=200;, score=-0.025 total time=   1.1s\n",
      "[CV 6/10] END Model__max_features=0.6279226120575965, Model__n_estimators=200;, score=-0.013 total time=   1.2s\n",
      "[CV 7/10] END Model__max_features=0.6279226120575965, Model__n_estimators=200;, score=-0.017 total time=   1.2s\n",
      "[CV 8/10] END Model__max_features=0.6279226120575965, Model__n_estimators=200;, score=-0.014 total time=   1.1s\n",
      "[CV 9/10] END Model__max_features=0.6279226120575965, Model__n_estimators=200;, score=-0.015 total time=   1.1s\n",
      "[CV 10/10] END Model__max_features=0.6279226120575965, Model__n_estimators=200;, score=-0.022 total time=   1.1s\n",
      "[CV 1/10] END Model__max_features=0.6274436663571595, Model__n_estimators=200;, score=-0.019 total time=   1.0s\n",
      "[CV 2/10] END Model__max_features=0.6274436663571595, Model__n_estimators=200;, score=-0.012 total time=   1.0s\n",
      "[CV 3/10] END Model__max_features=0.6274436663571595, Model__n_estimators=200;, score=-0.018 total time=   1.0s\n",
      "[CV 4/10] END Model__max_features=0.6274436663571595, Model__n_estimators=200;, score=-0.029 total time=   1.0s\n",
      "[CV 5/10] END Model__max_features=0.6274436663571595, Model__n_estimators=200;, score=-0.026 total time=   1.0s\n",
      "[CV 6/10] END Model__max_features=0.6274436663571595, Model__n_estimators=200;, score=-0.013 total time=   1.0s\n",
      "[CV 7/10] END Model__max_features=0.6274436663571595, Model__n_estimators=200;, score=-0.018 total time=   1.1s\n",
      "[CV 8/10] END Model__max_features=0.6274436663571595, Model__n_estimators=200;, score=-0.015 total time=   1.0s\n",
      "[CV 9/10] END Model__max_features=0.6274436663571595, Model__n_estimators=200;, score=-0.014 total time=   1.0s\n",
      "[CV 10/10] END Model__max_features=0.6274436663571595, Model__n_estimators=200;, score=-0.020 total time=   1.2s\n",
      "[CV 1/10] END Model__max_features=0.6213261505101142, Model__n_estimators=200;, score=-0.018 total time=   1.2s\n",
      "[CV 2/10] END Model__max_features=0.6213261505101142, Model__n_estimators=200;, score=-0.012 total time=   1.2s\n",
      "[CV 3/10] END Model__max_features=0.6213261505101142, Model__n_estimators=200;, score=-0.018 total time=   1.1s\n"
     ]
    },
    {
     "name": "stdout",
     "output_type": "stream",
     "text": [
      "[CV 4/10] END Model__max_features=0.6213261505101142, Model__n_estimators=200;, score=-0.029 total time=   1.0s\n",
      "[CV 5/10] END Model__max_features=0.6213261505101142, Model__n_estimators=200;, score=-0.025 total time=   1.1s\n",
      "[CV 6/10] END Model__max_features=0.6213261505101142, Model__n_estimators=200;, score=-0.012 total time=   1.0s\n",
      "[CV 7/10] END Model__max_features=0.6213261505101142, Model__n_estimators=200;, score=-0.017 total time=   1.1s\n",
      "[CV 8/10] END Model__max_features=0.6213261505101142, Model__n_estimators=200;, score=-0.014 total time=   1.2s\n",
      "[CV 9/10] END Model__max_features=0.6213261505101142, Model__n_estimators=200;, score=-0.013 total time=   1.1s\n",
      "[CV 10/10] END Model__max_features=0.6213261505101142, Model__n_estimators=200;, score=-0.021 total time=   1.2s\n",
      "[CV 1/10] END Model__max_features=0.622264360114284, Model__n_estimators=200;, score=-0.018 total time=   1.1s\n",
      "[CV 2/10] END Model__max_features=0.622264360114284, Model__n_estimators=200;, score=-0.013 total time=   1.4s\n",
      "[CV 3/10] END Model__max_features=0.622264360114284, Model__n_estimators=200;, score=-0.019 total time=   1.4s\n",
      "[CV 4/10] END Model__max_features=0.622264360114284, Model__n_estimators=200;, score=-0.029 total time=   1.2s\n",
      "[CV 5/10] END Model__max_features=0.622264360114284, Model__n_estimators=200;, score=-0.025 total time=   1.1s\n",
      "[CV 6/10] END Model__max_features=0.622264360114284, Model__n_estimators=200;, score=-0.012 total time=   1.1s\n",
      "[CV 7/10] END Model__max_features=0.622264360114284, Model__n_estimators=200;, score=-0.017 total time=   1.0s\n",
      "[CV 8/10] END Model__max_features=0.622264360114284, Model__n_estimators=200;, score=-0.015 total time=   1.0s\n",
      "[CV 9/10] END Model__max_features=0.622264360114284, Model__n_estimators=200;, score=-0.014 total time=   1.0s\n",
      "[CV 10/10] END Model__max_features=0.622264360114284, Model__n_estimators=200;, score=-0.020 total time=   1.0s\n",
      "[CV 1/10] END Model__max_features=0.6231808341372, Model__n_estimators=200;, score=-0.019 total time=   1.1s\n",
      "[CV 2/10] END Model__max_features=0.6231808341372, Model__n_estimators=200;, score=-0.013 total time=   1.1s\n",
      "[CV 3/10] END Model__max_features=0.6231808341372, Model__n_estimators=200;, score=-0.019 total time=   1.1s\n",
      "[CV 4/10] END Model__max_features=0.6231808341372, Model__n_estimators=200;, score=-0.029 total time=   1.0s\n",
      "[CV 5/10] END Model__max_features=0.6231808341372, Model__n_estimators=200;, score=-0.025 total time=   1.0s\n",
      "[CV 6/10] END Model__max_features=0.6231808341372, Model__n_estimators=200;, score=-0.013 total time=   1.3s\n",
      "[CV 7/10] END Model__max_features=0.6231808341372, Model__n_estimators=200;, score=-0.017 total time=   1.2s\n",
      "[CV 8/10] END Model__max_features=0.6231808341372, Model__n_estimators=200;, score=-0.015 total time=   1.1s\n",
      "[CV 9/10] END Model__max_features=0.6231808341372, Model__n_estimators=200;, score=-0.014 total time=   1.0s\n",
      "[CV 10/10] END Model__max_features=0.6231808341372, Model__n_estimators=200;, score=-0.020 total time=   1.1s\n",
      "[CV 1/10] END Model__max_features=0.6242332672187876, Model__n_estimators=200;, score=-0.019 total time=   0.9s\n",
      "[CV 2/10] END Model__max_features=0.6242332672187876, Model__n_estimators=200;, score=-0.013 total time=   1.0s\n",
      "[CV 3/10] END Model__max_features=0.6242332672187876, Model__n_estimators=200;, score=-0.018 total time=   0.9s\n",
      "[CV 4/10] END Model__max_features=0.6242332672187876, Model__n_estimators=200;, score=-0.028 total time=   0.9s\n",
      "[CV 5/10] END Model__max_features=0.6242332672187876, Model__n_estimators=200;, score=-0.025 total time=   1.1s\n",
      "[CV 6/10] END Model__max_features=0.6242332672187876, Model__n_estimators=200;, score=-0.013 total time=   1.2s\n",
      "[CV 7/10] END Model__max_features=0.6242332672187876, Model__n_estimators=200;, score=-0.017 total time=   1.1s\n",
      "[CV 8/10] END Model__max_features=0.6242332672187876, Model__n_estimators=200;, score=-0.015 total time=   1.0s\n",
      "[CV 9/10] END Model__max_features=0.6242332672187876, Model__n_estimators=200;, score=-0.014 total time=   1.2s\n",
      "[CV 10/10] END Model__max_features=0.6242332672187876, Model__n_estimators=200;, score=-0.020 total time=   1.5s\n",
      "[CV 1/10] END Model__max_features=0.6272911429931249, Model__n_estimators=200;, score=-0.019 total time=   1.1s\n",
      "[CV 2/10] END Model__max_features=0.6272911429931249, Model__n_estimators=200;, score=-0.013 total time=   1.0s\n",
      "[CV 3/10] END Model__max_features=0.6272911429931249, Model__n_estimators=200;, score=-0.019 total time=   1.1s\n",
      "[CV 4/10] END Model__max_features=0.6272911429931249, Model__n_estimators=200;, score=-0.028 total time=   1.0s\n",
      "[CV 5/10] END Model__max_features=0.6272911429931249, Model__n_estimators=200;, score=-0.025 total time=   1.0s\n",
      "[CV 6/10] END Model__max_features=0.6272911429931249, Model__n_estimators=200;, score=-0.013 total time=   0.9s\n",
      "[CV 7/10] END Model__max_features=0.6272911429931249, Model__n_estimators=200;, score=-0.017 total time=   1.0s\n",
      "[CV 8/10] END Model__max_features=0.6272911429931249, Model__n_estimators=200;, score=-0.014 total time=   1.1s\n",
      "[CV 9/10] END Model__max_features=0.6272911429931249, Model__n_estimators=200;, score=-0.014 total time=   1.0s\n",
      "[CV 10/10] END Model__max_features=0.6272911429931249, Model__n_estimators=200;, score=-0.021 total time=   1.0s\n",
      "[CV 1/10] END Model__max_features=0.6269965967588546, Model__n_estimators=200;, score=-0.018 total time=   0.9s\n",
      "[CV 2/10] END Model__max_features=0.6269965967588546, Model__n_estimators=200;, score=-0.012 total time=   0.9s\n",
      "[CV 3/10] END Model__max_features=0.6269965967588546, Model__n_estimators=200;, score=-0.018 total time=   1.1s\n",
      "[CV 4/10] END Model__max_features=0.6269965967588546, Model__n_estimators=200;, score=-0.030 total time=   1.2s\n",
      "[CV 5/10] END Model__max_features=0.6269965967588546, Model__n_estimators=200;, score=-0.026 total time=   1.0s\n",
      "[CV 6/10] END Model__max_features=0.6269965967588546, Model__n_estimators=200;, score=-0.013 total time=   1.0s\n",
      "[CV 7/10] END Model__max_features=0.6269965967588546, Model__n_estimators=200;, score=-0.017 total time=   1.0s\n",
      "[CV 8/10] END Model__max_features=0.6269965967588546, Model__n_estimators=200;, score=-0.015 total time=   1.1s\n",
      "[CV 9/10] END Model__max_features=0.6269965967588546, Model__n_estimators=200;, score=-0.014 total time=   1.1s\n",
      "[CV 10/10] END Model__max_features=0.6269965967588546, Model__n_estimators=200;, score=-0.021 total time=   1.1s\n",
      "[CV 1/10] END Model__max_features=0.6257389852785422, Model__n_estimators=200;, score=-0.019 total time=   1.0s\n",
      "[CV 2/10] END Model__max_features=0.6257389852785422, Model__n_estimators=200;, score=-0.013 total time=   1.0s\n",
      "[CV 3/10] END Model__max_features=0.6257389852785422, Model__n_estimators=200;, score=-0.018 total time=   1.0s\n",
      "[CV 4/10] END Model__max_features=0.6257389852785422, Model__n_estimators=200;, score=-0.028 total time=   1.1s\n",
      "[CV 5/10] END Model__max_features=0.6257389852785422, Model__n_estimators=200;, score=-0.025 total time=   0.9s\n",
      "[CV 6/10] END Model__max_features=0.6257389852785422, Model__n_estimators=200;, score=-0.012 total time=   1.0s\n",
      "[CV 7/10] END Model__max_features=0.6257389852785422, Model__n_estimators=200;, score=-0.017 total time=   1.2s\n",
      "[CV 8/10] END Model__max_features=0.6257389852785422, Model__n_estimators=200;, score=-0.014 total time=   1.4s\n",
      "[CV 9/10] END Model__max_features=0.6257389852785422, Model__n_estimators=200;, score=-0.014 total time=   1.2s\n",
      "[CV 10/10] END Model__max_features=0.6257389852785422, Model__n_estimators=200;, score=-0.022 total time=   1.0s\n",
      "[CV 1/10] END Model__max_features=0.621088086224182, Model__n_estimators=200;, score=-0.018 total time=   1.0s\n",
      "[CV 2/10] END Model__max_features=0.621088086224182, Model__n_estimators=200;, score=-0.012 total time=   1.2s\n",
      "[CV 3/10] END Model__max_features=0.621088086224182, Model__n_estimators=200;, score=-0.019 total time=   1.3s\n",
      "[CV 4/10] END Model__max_features=0.621088086224182, Model__n_estimators=200;, score=-0.030 total time=   1.0s\n",
      "[CV 5/10] END Model__max_features=0.621088086224182, Model__n_estimators=200;, score=-0.025 total time=   1.1s\n",
      "[CV 6/10] END Model__max_features=0.621088086224182, Model__n_estimators=200;, score=-0.013 total time=   1.0s\n",
      "[CV 7/10] END Model__max_features=0.621088086224182, Model__n_estimators=200;, score=-0.017 total time=   1.0s\n"
     ]
    },
    {
     "name": "stdout",
     "output_type": "stream",
     "text": [
      "[CV 8/10] END Model__max_features=0.621088086224182, Model__n_estimators=200;, score=-0.014 total time=   0.9s\n",
      "[CV 9/10] END Model__max_features=0.621088086224182, Model__n_estimators=200;, score=-0.014 total time=   1.0s\n",
      "[CV 10/10] END Model__max_features=0.621088086224182, Model__n_estimators=200;, score=-0.020 total time=   1.1s\n"
     ]
    },
    {
     "data": {
      "text/plain": [
       "RandomizedSearchCV(cv=10,\n",
       "                   estimator=Pipeline(steps=[('Process',\n",
       "                                              ColumnTransformer(transformers=[('Already_Encoded_Subjective',\n",
       "                                                                               'passthrough',\n",
       "                                                                               ['OverallQual',\n",
       "                                                                                'OverallCond']),\n",
       "                                                                              ('Encode_Subjective',\n",
       "                                                                               OrdinalEncoder(drop_invariant=True,\n",
       "                                                                                              mapping=[{'col': 'ExterQual',\n",
       "                                                                                                        'mapping': {'Ex': 4,\n",
       "                                                                                                                    'Fa': 1,\n",
       "                                                                                                                    'Gd': 3,\n",
       "                                                                                                                    'Po': 0,\n",
       "                                                                                                                    'TA': 2}},\n",
       "                                                                                                       {'col': 'BsmtQual',\n",
       "                                                                                                        'mapping': {nan: 0,\n",
       "                                                                                                                    'Ex': 5,\n",
       "                                                                                                                    'Fa': 2,...\n",
       "                                                                               TargetEncoder(),\n",
       "                                                                               ['MSZoning',\n",
       "                                                                                'Neighborhood',\n",
       "                                                                                'Condition1',\n",
       "                                                                                'MSSubClass'])])),\n",
       "                                             ('Impute',\n",
       "                                              SimpleImputer(strategy='median')),\n",
       "                                             ('Model',\n",
       "                                              ExtraTreesRegressor(n_jobs=-1))]),\n",
       "                   n_iter=15,\n",
       "                   param_distributions={'Model__max_features': <scipy.stats._distn_infrastructure.rv_frozen object at 0x000001BA2EAC05B0>,\n",
       "                                        'Model__n_estimators': [200]},\n",
       "                   scoring='neg_mean_squared_log_error', verbose=4)"
      ]
     },
     "execution_count": 938,
     "metadata": {},
     "output_type": "execute_result"
    }
   ],
   "source": [
    "grid_RF.fit(X, y)"
   ]
  },
  {
   "cell_type": "code",
   "execution_count": 940,
   "id": "359480d9",
   "metadata": {},
   "outputs": [
    {
     "data": {
      "text/plain": [
       "({'Model__max_features': 0.6213261505101142, 'Model__n_estimators': 200},\n",
       " -0.01796155307502295)"
      ]
     },
     "execution_count": 940,
     "metadata": {},
     "output_type": "execute_result"
    }
   ],
   "source": [
    "grid_RF.best_params_, grid_RF.best_score_"
   ]
  },
  {
   "cell_type": "code",
   "execution_count": 941,
   "id": "1d442b56",
   "metadata": {},
   "outputs": [],
   "source": [
    "write_test(grid_RF.best_estimator_, 'Extra_Tuned.csv')"
   ]
  }
 ],
 "metadata": {
  "kernelspec": {
   "display_name": "Python 3 (ipykernel)",
   "language": "python",
   "name": "python3"
  },
  "language_info": {
   "codemirror_mode": {
    "name": "ipython",
    "version": 3
   },
   "file_extension": ".py",
   "mimetype": "text/x-python",
   "name": "python",
   "nbconvert_exporter": "python",
   "pygments_lexer": "ipython3",
   "version": "3.9.7"
  }
 },
 "nbformat": 4,
 "nbformat_minor": 5
}
