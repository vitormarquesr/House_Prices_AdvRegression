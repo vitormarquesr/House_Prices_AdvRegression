{
 "cells": [
  {
   "cell_type": "markdown",
   "id": "fca36601",
   "metadata": {},
   "source": [
    "# House prices other approaches"
   ]
  },
  {
   "cell_type": "markdown",
   "id": "b1a804cf",
   "metadata": {},
   "source": [
    "This model intends to be simple. Since there are lots of variables for a small number of instances, overfitting is a serious issue. So, I'll select a few variables beforehand that are the most important ones according to domain experts."
   ]
  },
  {
   "cell_type": "markdown",
   "id": "96024edc",
   "metadata": {},
   "source": [
    "A quick domain research shows that the price of a house is mostly influenced by:\n",
    "\n",
    "- Prices of similar houses in the neighborhood\n",
    "- Location (Proximity to schools, employment oportunities, entertainment, ...)\n",
    "- Size and Usuable space\n",
    "- Age and condition\n",
    "- Number of bedrooms and bathrooms\n",
    "- Garage"
   ]
  },
  {
   "cell_type": "code",
   "execution_count": 120,
   "id": "2ed43b81",
   "metadata": {},
   "outputs": [],
   "source": [
    "%matplotlib inline\n",
    "import numpy as np\n",
    "import pandas as pd\n",
    "import matplotlib.pyplot as plt\n",
    "import seaborn as sns\n",
    "import category_encoders as ce\n",
    "import joblib\n",
    "from scipy.stats.distributions import uniform, randint\n",
    "from sklearn.base import TransformerMixin, BaseEstimator\n",
    "from sklearn.pipeline import Pipeline\n",
    "from sklearn.preprocessing import OneHotEncoder\n",
    "from sklearn.ensemble import RandomForestRegressor, ExtraTreesRegressor\n",
    "from sklearn.linear_model import LinearRegression\n",
    "from sklearn.model_selection import cross_val_score, RandomizedSearchCV, GridSearchCV\n",
    "from sklearn.impute import SimpleImputer\n",
    "from sklearn.compose import ColumnTransformer"
   ]
  },
  {
   "cell_type": "code",
   "execution_count": 2,
   "id": "81cebf0e",
   "metadata": {},
   "outputs": [],
   "source": [
    "df = pd.read_csv('train.csv')"
   ]
  },
  {
   "cell_type": "code",
   "execution_count": 3,
   "id": "888ed944",
   "metadata": {},
   "outputs": [],
   "source": [
    "X = df.drop(['SalePrice'], axis=1)\n",
    "y = df['SalePrice']"
   ]
  },
  {
   "cell_type": "code",
   "execution_count": 4,
   "id": "b525413d",
   "metadata": {},
   "outputs": [],
   "source": [
    "num_cols = df.columns[(df.dtypes == 'int64').ravel()].drop(['Id', 'MSSubClass'])"
   ]
  },
  {
   "cell_type": "code",
   "execution_count": 5,
   "id": "91416eeb",
   "metadata": {},
   "outputs": [],
   "source": [
    "df_num = df.loc[:, num_cols]"
   ]
  },
  {
   "cell_type": "code",
   "execution_count": 6,
   "id": "7e24dd22",
   "metadata": {},
   "outputs": [
    {
     "data": {
      "text/html": [
       "<div>\n",
       "<style scoped>\n",
       "    .dataframe tbody tr th:only-of-type {\n",
       "        vertical-align: middle;\n",
       "    }\n",
       "\n",
       "    .dataframe tbody tr th {\n",
       "        vertical-align: top;\n",
       "    }\n",
       "\n",
       "    .dataframe thead th {\n",
       "        text-align: right;\n",
       "    }\n",
       "</style>\n",
       "<table border=\"1\" class=\"dataframe\">\n",
       "  <thead>\n",
       "    <tr style=\"text-align: right;\">\n",
       "      <th></th>\n",
       "      <th>OverallQual</th>\n",
       "      <th>GarageCars</th>\n",
       "      <th>GrLivArea</th>\n",
       "      <th>FullBath</th>\n",
       "      <th>GarageArea</th>\n",
       "      <th>YearBuilt</th>\n",
       "      <th>TotalBsmtSF</th>\n",
       "      <th>YearRemodAdd</th>\n",
       "      <th>Fireplaces</th>\n",
       "      <th>1stFlrSF</th>\n",
       "      <th>...</th>\n",
       "      <th>OverallCond</th>\n",
       "      <th>ScreenPorch</th>\n",
       "      <th>LowQualFinSF</th>\n",
       "      <th>3SsnPorch</th>\n",
       "      <th>MiscVal</th>\n",
       "      <th>MoSold</th>\n",
       "      <th>PoolArea</th>\n",
       "      <th>BsmtFinSF2</th>\n",
       "      <th>YrSold</th>\n",
       "      <th>BsmtHalfBath</th>\n",
       "    </tr>\n",
       "  </thead>\n",
       "  <tbody>\n",
       "    <tr>\n",
       "      <th>Correlation</th>\n",
       "      <td>0.669660</td>\n",
       "      <td>0.572168</td>\n",
       "      <td>0.543942</td>\n",
       "      <td>0.518693</td>\n",
       "      <td>0.478146</td>\n",
       "      <td>0.470960</td>\n",
       "      <td>0.435018</td>\n",
       "      <td>0.412955</td>\n",
       "      <td>0.412829</td>\n",
       "      <td>0.411556</td>\n",
       "      <td>...</td>\n",
       "      <td>0.103492</td>\n",
       "      <td>0.080654</td>\n",
       "      <td>0.055308</td>\n",
       "      <td>0.053478</td>\n",
       "      <td>0.050917</td>\n",
       "      <td>0.049471</td>\n",
       "      <td>0.047800</td>\n",
       "      <td>0.030710</td>\n",
       "      <td>0.021796</td>\n",
       "      <td>0.009962</td>\n",
       "    </tr>\n",
       "    <tr>\n",
       "      <th>VarCoeff</th>\n",
       "      <td>0.226746</td>\n",
       "      <td>0.422899</td>\n",
       "      <td>0.346746</td>\n",
       "      <td>0.352007</td>\n",
       "      <td>0.452038</td>\n",
       "      <td>0.015322</td>\n",
       "      <td>0.414879</td>\n",
       "      <td>0.010401</td>\n",
       "      <td>1.051635</td>\n",
       "      <td>0.332512</td>\n",
       "      <td>...</td>\n",
       "      <td>0.199593</td>\n",
       "      <td>3.702116</td>\n",
       "      <td>8.319430</td>\n",
       "      <td>8.598494</td>\n",
       "      <td>11.408001</td>\n",
       "      <td>0.427659</td>\n",
       "      <td>14.562778</td>\n",
       "      <td>3.465556</td>\n",
       "      <td>0.000661</td>\n",
       "      <td>4.149748</td>\n",
       "    </tr>\n",
       "  </tbody>\n",
       "</table>\n",
       "<p>2 rows × 32 columns</p>\n",
       "</div>"
      ],
      "text/plain": [
       "             OverallQual  GarageCars  GrLivArea  FullBath  GarageArea  \\\n",
       "Correlation     0.669660    0.572168   0.543942  0.518693    0.478146   \n",
       "VarCoeff        0.226746    0.422899   0.346746  0.352007    0.452038   \n",
       "\n",
       "             YearBuilt  TotalBsmtSF  YearRemodAdd  Fireplaces  1stFlrSF  ...  \\\n",
       "Correlation   0.470960     0.435018      0.412955    0.412829  0.411556  ...   \n",
       "VarCoeff      0.015322     0.414879      0.010401    1.051635  0.332512  ...   \n",
       "\n",
       "             OverallCond  ScreenPorch  LowQualFinSF  3SsnPorch    MiscVal  \\\n",
       "Correlation     0.103492     0.080654      0.055308   0.053478   0.050917   \n",
       "VarCoeff        0.199593     3.702116      8.319430   8.598494  11.408001   \n",
       "\n",
       "               MoSold   PoolArea  BsmtFinSF2    YrSold  BsmtHalfBath  \n",
       "Correlation  0.049471   0.047800    0.030710  0.021796      0.009962  \n",
       "VarCoeff     0.427659  14.562778    3.465556  0.000661      4.149748  \n",
       "\n",
       "[2 rows x 32 columns]"
      ]
     },
     "execution_count": 6,
     "metadata": {},
     "output_type": "execute_result"
    }
   ],
   "source": [
    "corr_var = df_num.agg([lambda x: pd.DataFrame(x).corrwith(df['SalePrice'], method='kendall')[0], \n",
    "            lambda x:x.std()/x.mean()], axis=0).drop(['SalePrice'], axis=1).T\n",
    "corr_var.columns = ['Correlation', 'VarCoeff']\n",
    "corr_var = corr_var.applymap(abs).sort_values('Correlation', ascending=False).T\n",
    "corr_var"
   ]
  },
  {
   "cell_type": "code",
   "execution_count": 7,
   "id": "042ba25a",
   "metadata": {},
   "outputs": [],
   "source": [
    "cols_corr = corr_var.columns"
   ]
  },
  {
   "cell_type": "code",
   "execution_count": 8,
   "id": "d8c6e56e",
   "metadata": {},
   "outputs": [
    {
     "data": {
      "text/plain": [
       "Index(['OverallQual', 'GarageCars', 'GrLivArea', 'FullBath', 'GarageArea',\n",
       "       'YearBuilt', 'TotalBsmtSF', 'YearRemodAdd', 'Fireplaces', '1stFlrSF',\n",
       "       'TotRmsAbvGrd', 'OpenPorchSF', 'LotArea', 'HalfBath', 'WoodDeckSF',\n",
       "       '2ndFlrSF', 'BsmtFinSF1', 'BedroomAbvGr', 'BsmtFullBath',\n",
       "       'EnclosedPorch', 'KitchenAbvGr', 'BsmtUnfSF', 'OverallCond',\n",
       "       'ScreenPorch', 'LowQualFinSF', '3SsnPorch', 'MiscVal', 'MoSold',\n",
       "       'PoolArea', 'BsmtFinSF2', 'YrSold', 'BsmtHalfBath'],\n",
       "      dtype='object')"
      ]
     },
     "execution_count": 8,
     "metadata": {},
     "output_type": "execute_result"
    }
   ],
   "source": [
    "cols_corr"
   ]
  },
  {
   "cell_type": "code",
   "execution_count": 9,
   "id": "2c36d2b1",
   "metadata": {},
   "outputs": [],
   "source": [
    "def write_test(mod,name):\n",
    "    df_t = pd.read_csv('test.csv')\n",
    "    df_pred = pd.concat([df_t.Id, pd.Series(mod.predict(df_t), name='SalePrice')], axis=1)\n",
    "    df_pred.to_csv(name, index=False)"
   ]
  },
  {
   "cell_type": "code",
   "execution_count": 11,
   "id": "b8ccd22c",
   "metadata": {},
   "outputs": [],
   "source": [
    "class Preprocessing_Select(TransformerMixin, BaseEstimator):\n",
    "    \"\"\" Simple transformation and Select Variables to work with \"\"\"\n",
    "    # House_Age = YrSold - YrBuilt | To assign a scale\n",
    "    def __init__(self, vars_corr=None, k=None):\n",
    "        self.vars_corr = vars_corr\n",
    "        if k:\n",
    "            self.k = k\n",
    "        else:\n",
    "            self.k = len(vars_corr)\n",
    "    def fit(self, X, y=None):\n",
    "        return self\n",
    "    def transform(self, X, y=None):\n",
    "        Xt = X.copy()\n",
    "        Xt['YearBuilt'] = Xt['YrSold'] - Xt['YearBuilt']\n",
    "        Xt['YearRemodAdd'] = Xt['YrSold'] - Xt['YearRemodAdd']\n",
    "        return Xt[self.vars_corr[:self.k]]"
   ]
  },
  {
   "cell_type": "code",
   "execution_count": 84,
   "id": "605d1584",
   "metadata": {},
   "outputs": [],
   "source": [
    "pipe_RF = Pipeline([\n",
    "    ('Preprocess', Preprocessing_Select(vars_corr=cols_corr)),\n",
    "    ('Impute', SimpleImputer(strategy='constant', fill_value=0)),\n",
    "    ('Predict', RandomForestRegressor(n_jobs=-1,random_state=42))]\n",
    ")"
   ]
  },
  {
   "cell_type": "code",
   "execution_count": 85,
   "id": "8b76d69b",
   "metadata": {},
   "outputs": [],
   "source": [
    "grid_params = {\n",
    "    'Preprocess__k':list(range(1, len(cols_corr)))\n",
    "}"
   ]
  },
  {
   "cell_type": "code",
   "execution_count": 86,
   "id": "647e15b8",
   "metadata": {},
   "outputs": [],
   "source": [
    "grid_RF = GridSearchCV(pipe_RF, param_grid=grid_params, cv=10, scoring='neg_mean_squared_log_error')"
   ]
  },
  {
   "cell_type": "code",
   "execution_count": 87,
   "id": "99f2c757",
   "metadata": {},
   "outputs": [
    {
     "data": {
      "text/plain": [
       "GridSearchCV(cv=10,\n",
       "             estimator=Pipeline(steps=[('Preprocess',\n",
       "                                        Preprocessing_Select(k=32,\n",
       "                                                             vars_corr=Index(['OverallQual', 'GarageCars', 'GrLivArea', 'FullBath', 'GarageArea',\n",
       "       'YearBuilt', 'TotalBsmtSF', 'YearRemodAdd', 'Fireplaces', '1stFlrSF',\n",
       "       'TotRmsAbvGrd', 'OpenPorchSF', 'LotArea', 'HalfBath', 'WoodDeckSF',\n",
       "       '2ndFlrSF', 'BsmtFinSF1', 'BedroomAbvGr', 'BsmtFullBath',\n",
       "       'En...\n",
       "       'ScreenPorch', 'LowQualFinSF', '3SsnPorch', 'MiscVal', 'MoSold',\n",
       "       'PoolArea', 'BsmtFinSF2', 'YrSold', 'BsmtHalfBath'],\n",
       "      dtype='object'))),\n",
       "                                       ('Impute',\n",
       "                                        SimpleImputer(fill_value=0,\n",
       "                                                      strategy='constant')),\n",
       "                                       ('Predict',\n",
       "                                        RandomForestRegressor(n_jobs=-1,\n",
       "                                                              random_state=42))]),\n",
       "             param_grid={'Preprocess__k': [1, 2, 3, 4, 5, 6, 7, 8, 9, 10, 11,\n",
       "                                           12, 13, 14, 15, 16, 17, 18, 19, 20,\n",
       "                                           21, 22, 23, 24, 25, 26, 27, 28, 29,\n",
       "                                           30, ...]},\n",
       "             scoring='neg_mean_squared_log_error')"
      ]
     },
     "execution_count": 87,
     "metadata": {},
     "output_type": "execute_result"
    }
   ],
   "source": [
    "grid_RF.fit(X, y)"
   ]
  },
  {
   "cell_type": "code",
   "execution_count": 108,
   "id": "26e30845",
   "metadata": {},
   "outputs": [
    {
     "data": {
      "text/plain": [
       "{'Preprocess__k': 26}"
      ]
     },
     "execution_count": 108,
     "metadata": {},
     "output_type": "execute_result"
    }
   ],
   "source": [
    "grid_RF.best_params_"
   ]
  },
  {
   "cell_type": "code",
   "execution_count": 236,
   "id": "364e22d4",
   "metadata": {},
   "outputs": [],
   "source": [
    "#write_test(grid_RF.best_estimator_, 'RF_Selected_Variables.csv')"
   ]
  },
  {
   "cell_type": "markdown",
   "id": "6cc2c080",
   "metadata": {},
   "source": [
    "**The best estimator is with k = 26 variables**"
   ]
  },
  {
   "cell_type": "markdown",
   "id": "4ce8bfdc",
   "metadata": {},
   "source": [
    "### Trying Extra Trees"
   ]
  },
  {
   "cell_type": "code",
   "execution_count": 115,
   "id": "73b32868",
   "metadata": {
    "scrolled": true
   },
   "outputs": [
    {
     "data": {
      "text/plain": [
       "-0.020643281794012418"
      ]
     },
     "execution_count": 115,
     "metadata": {},
     "output_type": "execute_result"
    }
   ],
   "source": [
    "pipe_RFExtra = Pipeline([\n",
    "    ('Preprocess', Preprocessing_Select(vars_corr=cols_corr, k=26)),\n",
    "    ('Impute', SimpleImputer(strategy='constant', fill_value=0)),\n",
    "    ('Predict', ExtraTreesRegressor(n_jobs=-1))]\n",
    ")\n",
    "\n",
    "cross_val_score(pipe_RFExtra, X, y, cv = 10, scoring='neg_mean_squared_log_error').mean()"
   ]
  },
  {
   "cell_type": "code",
   "execution_count": 113,
   "id": "4f1e5b06",
   "metadata": {},
   "outputs": [
    {
     "data": {
      "text/plain": [
       "Pipeline(steps=[('Preprocess',\n",
       "                 Preprocessing_Select(k=25,\n",
       "                                      vars_corr=Index(['OverallQual', 'GarageCars', 'GrLivArea', 'FullBath', 'GarageArea',\n",
       "       'YearBuilt', 'TotalBsmtSF', 'YearRemodAdd', 'Fireplaces', '1stFlrSF',\n",
       "       'TotRmsAbvGrd', 'OpenPorchSF', 'LotArea', 'HalfBath', 'WoodDeckSF',\n",
       "       '2ndFlrSF', 'BsmtFinSF1', 'BedroomAbvGr', 'BsmtFullBath',\n",
       "       'EnclosedPorch', 'KitchenAbvGr', 'BsmtUnfSF', 'OverallCond',\n",
       "       'ScreenPorch', 'LowQualFinSF', '3SsnPorch', 'MiscVal', 'MoSold',\n",
       "       'PoolArea', 'BsmtFinSF2', 'YrSold', 'BsmtHalfBath'],\n",
       "      dtype='object'))),\n",
       "                ('Impute', SimpleImputer(fill_value=0, strategy='constant')),\n",
       "                ('Predict', ExtraTreesRegressor(n_jobs=-1))])"
      ]
     },
     "execution_count": 113,
     "metadata": {},
     "output_type": "execute_result"
    }
   ],
   "source": [
    "pipe_RFExtra.fit(X, y)"
   ]
  },
  {
   "cell_type": "code",
   "execution_count": 114,
   "id": "242eca85",
   "metadata": {},
   "outputs": [],
   "source": [
    "write_test(pipe_RFExtra, 'ExtraRF_Selected_Variables4.csv')"
   ]
  },
  {
   "cell_type": "markdown",
   "id": "05517859",
   "metadata": {},
   "source": [
    "### Analyzing the results"
   ]
  },
  {
   "cell_type": "code",
   "execution_count": 89,
   "id": "43cd6276",
   "metadata": {},
   "outputs": [],
   "source": [
    "results =grid_RF.cv_results_['mean_test_score']"
   ]
  },
  {
   "cell_type": "code",
   "execution_count": 29,
   "id": "bbfe1ec3",
   "metadata": {},
   "outputs": [],
   "source": [
    "#joblib.dump(results, 'variable_selection_score.pkl')\n",
    "#results = joblib.load('variable_selection_score.pkl')"
   ]
  },
  {
   "cell_type": "code",
   "execution_count": 97,
   "id": "6fe15f70",
   "metadata": {},
   "outputs": [
    {
     "data": {
      "image/png": "[encoded data removed]",
      "text/plain": [
       "<Figure size 1080x360 with 1 Axes>"
      ]
     },
     "metadata": {
      "needs_background": "light"
     },
     "output_type": "display_data"
    }
   ],
   "source": [
    "plt.figure(figsize=(15, 5))\n",
    "plt.plot(range(1,len(cols_corr)), results)\n",
    "plt.xlabel('K (NUMBER OF VARIABLES)')\n",
    "plt.xticks(range(1, len(cols_corr)))\n",
    "plt.ylabel('NEGATIVE MEAN SQUARED LOG ERROR')\n",
    "plt.show()"
   ]
  },
  {
   "cell_type": "code",
   "execution_count": 98,
   "id": "62563340",
   "metadata": {},
   "outputs": [
    {
     "data": {
      "text/plain": [
       "Text(0.5, 0, 'MEAN SQUARED LOG ERROR AFTER ADDING VARIABLE')"
      ]
     },
     "execution_count": 98,
     "metadata": {},
     "output_type": "execute_result"
    },
    {
     "data": {
      "image/png": "[encoded data removed]",
      "text/plain": [
       "<Figure size 1440x720 with 1 Axes>"
      ]
     },
     "metadata": {
      "needs_background": "light"
     },
     "output_type": "display_data"
    }
   ],
   "source": [
    "plt.figure(figsize=(20,10))\n",
    "sns.barplot(y=cols_corr[:-1], x=abs(results))\n",
    "plt.xlabel('MEAN SQUARED LOG ERROR AFTER ADDING VARIABLE')"
   ]
  },
  {
   "cell_type": "code",
   "execution_count": 99,
   "id": "a576c8a8",
   "metadata": {},
   "outputs": [
    {
     "data": {
      "text/plain": [
       "Text(0.5, 0, 'BUMP IN SCORE AFTER ADDING VARIABLE')"
      ]
     },
     "execution_count": 99,
     "metadata": {},
     "output_type": "execute_result"
    },
    {
     "data": {
      "image/png": "[encoded data removed]",
      "text/plain": [
       "<Figure size 1440x720 with 1 Axes>"
      ]
     },
     "metadata": {
      "needs_background": "light"
     },
     "output_type": "display_data"
    }
   ],
   "source": [
    "bump = np.diff(results)\n",
    "plt.figure(figsize=(20,10))\n",
    "sns.barplot(y=cols_corr[1:-1], x=bump)\n",
    "plt.xlabel('BUMP IN SCORE AFTER ADDING VARIABLE')"
   ]
  },
  {
   "cell_type": "markdown",
   "id": "41ce271d",
   "metadata": {},
   "source": [
    "### Selecting only variables with significant bumps"
   ]
  },
  {
   "cell_type": "code",
   "execution_count": 100,
   "id": "95dca65e",
   "metadata": {},
   "outputs": [
    {
     "data": {
      "text/plain": [
       "array([ 8.71320091e-03,  3.77711616e-03,  2.44178830e-03,  3.87342416e-03,\n",
       "        4.56068912e-03,  2.93111683e-03,  9.91936574e-04,  1.17553077e-03,\n",
       "        1.26256128e-04, -4.38538813e-05, -1.88302904e-04,  7.51394582e-04,\n",
       "       -2.70842149e-05,  9.90367870e-05,  5.08955040e-04,  1.49858816e-03,\n",
       "       -1.76606759e-04,  6.71776732e-05,  9.46161201e-05, -7.98233293e-05,\n",
       "        1.56259656e-04,  1.08919915e-03, -1.61666908e-04,  3.01118162e-04,\n",
       "        3.63589210e-05, -1.75686102e-04, -3.34258629e-04,  6.27977292e-05,\n",
       "        3.40182240e-05, -8.53938217e-05])"
      ]
     },
     "execution_count": 100,
     "metadata": {},
     "output_type": "execute_result"
    }
   ],
   "source": [
    "bump"
   ]
  },
  {
   "cell_type": "code",
   "execution_count": 101,
   "id": "1df2d01d",
   "metadata": {},
   "outputs": [],
   "source": [
    "best_vars = np.insert(cols_corr[1:-1][bump > 0], 0, 'OverallQual')"
   ]
  },
  {
   "cell_type": "code",
   "execution_count": 68,
   "id": "4a2a75c8",
   "metadata": {},
   "outputs": [],
   "source": [
    "#joblib.dump(best_vars, 'vars_positive_bump.csv')"
   ]
  },
  {
   "cell_type": "code",
   "execution_count": 103,
   "id": "c34e6c42",
   "metadata": {},
   "outputs": [
    {
     "data": {
      "text/plain": [
       "22"
      ]
     },
     "execution_count": 103,
     "metadata": {},
     "output_type": "execute_result"
    }
   ],
   "source": [
    "len(best_vars)"
   ]
  },
  {
   "cell_type": "code",
   "execution_count": 105,
   "id": "7af39c96",
   "metadata": {},
   "outputs": [
    {
     "data": {
      "text/plain": [
       "-0.020842966905589257"
      ]
     },
     "execution_count": 105,
     "metadata": {},
     "output_type": "execute_result"
    }
   ],
   "source": [
    "pipe_RFExtra_bestvars = Pipeline([\n",
    "    ('Preprocess', Preprocessing_Select(vars_corr=best_vars)),\n",
    "    ('Impute', SimpleImputer(strategy='constant', fill_value=0)),\n",
    "    ('Predict', ExtraTreesRegressor(n_jobs=-1, random_state=42))]\n",
    ")\n",
    "\n",
    "cross_val_score(pipe_RFExtra_bestvars, X, y, cv = 10, scoring='neg_mean_squared_log_error').mean()"
   ]
  },
  {
   "cell_type": "code",
   "execution_count": 106,
   "id": "02cd67e8",
   "metadata": {
    "scrolled": true
   },
   "outputs": [
    {
     "data": {
      "text/plain": [
       "Pipeline(steps=[('Preprocess',\n",
       "                 Preprocessing_Select(k=22,\n",
       "                                      vars_corr=Index(['OverallQual', 'GarageCars', 'GrLivArea', 'FullBath', 'GarageArea',\n",
       "       'YearBuilt', 'TotalBsmtSF', 'YearRemodAdd', 'Fireplaces', '1stFlrSF',\n",
       "       'LotArea', 'WoodDeckSF', '2ndFlrSF', 'BsmtFinSF1', 'BsmtFullBath',\n",
       "       'EnclosedPorch', 'BsmtUnfSF', 'OverallCond', 'LowQualFinSF',\n",
       "       '3SsnPorch', 'PoolArea', 'BsmtFinSF2'],\n",
       "      dtype='object'))),\n",
       "                ('Impute', SimpleImputer(fill_value=0, strategy='constant')),\n",
       "                ('Predict', ExtraTreesRegressor(n_jobs=-1, random_state=42))])"
      ]
     },
     "execution_count": 106,
     "metadata": {},
     "output_type": "execute_result"
    }
   ],
   "source": [
    "pipe_RFExtra_bestvars.fit(X, y)"
   ]
  },
  {
   "cell_type": "markdown",
   "id": "ef5978a5",
   "metadata": {},
   "source": [
    "## Num Pipeline"
   ]
  },
  {
   "cell_type": "code",
   "execution_count": 124,
   "id": "bef2e8a5",
   "metadata": {},
   "outputs": [],
   "source": [
    "num_pipe = Pipeline([\n",
    "    ('Preprocess', Preprocessing_Select(vars_corr=cols_corr, k=26)),\n",
    "    ('Impute', SimpleImputer(strategy='constant', fill_value=0))])"
   ]
  },
  {
   "cell_type": "markdown",
   "id": "bbba39c1",
   "metadata": {},
   "source": [
    "## Categorical Variables"
   ]
  },
  {
   "cell_type": "code",
   "execution_count": 197,
   "id": "d7792e92",
   "metadata": {},
   "outputs": [],
   "source": [
    "cat_pipe = Pipeline([\n",
    "    ('Impute_cat', SimpleImputer(strategy='most_frequent')),\n",
    "    ('OneHot', OneHotEncoder(handle_unknown='ignore'))])"
   ]
  },
  {
   "cell_type": "markdown",
   "id": "b8f2c54a",
   "metadata": {},
   "source": [
    "Since location is very important to determine a house price, the variable **neighborhood** should be useful."
   ]
  },
  {
   "cell_type": "code",
   "execution_count": 212,
   "id": "8df92ebe",
   "metadata": {},
   "outputs": [],
   "source": [
    "?ExtraTreesRegressor"
   ]
  },
  {
   "cell_type": "code",
   "execution_count": 198,
   "id": "031c2e67",
   "metadata": {},
   "outputs": [],
   "source": [
    "full_preprocess = ColumnTransformer([\n",
    "    ('Numerical', num_pipe, cols_corr),\n",
    "    ('Categorical', cat_pipe, ['Neighborhood'])])"
   ]
  },
  {
   "cell_type": "code",
   "execution_count": 208,
   "id": "2761b910",
   "metadata": {},
   "outputs": [],
   "source": [
    "transf_predictEXT = Pipeline([\n",
    "    ('Transform', full_preprocess),\n",
    "    ('Predict', ExtraTreesRegressor(n_jobs=-1))\n",
    "])"
   ]
  },
  {
   "cell_type": "code",
   "execution_count": 223,
   "id": "cf984534",
   "metadata": {},
   "outputs": [],
   "source": [
    "param_grid = {\n",
    "    'Transform__Numerical__Preprocess__k':[26],\n",
    "    'Predict__n_estimators':randint(80, 120),\n",
    "    'Predict__max_features':uniform(0.6, 0.4),\n",
    "    'Predict__bootstrap':[False, True]\n",
    "}"
   ]
  },
  {
   "cell_type": "code",
   "execution_count": 224,
   "id": "c68133d6",
   "metadata": {},
   "outputs": [],
   "source": [
    "grid_full_pipe_RF = RandomizedSearchCV(transf_predictEXT, param_distributions=param_grid, cv=10, scoring='neg_mean_squared_log_error',\n",
    "                                      n_iter=30)"
   ]
  },
  {
   "cell_type": "code",
   "execution_count": 225,
   "id": "417b9be3",
   "metadata": {
    "scrolled": true
   },
   "outputs": [
    {
     "data": {
      "text/plain": [
       "RandomizedSearchCV(cv=10,\n",
       "                   estimator=Pipeline(steps=[('Transform',\n",
       "                                              ColumnTransformer(transformers=[('Numerical',\n",
       "                                                                               Pipeline(steps=[('Preprocess',\n",
       "                                                                                                Preprocessing_Select(k=26,\n",
       "                                                                                                                     vars_corr=Index(['OverallQual', 'GarageCars', 'GrLivArea', 'FullBath', 'GarageArea',\n",
       "       'YearBuilt', 'TotalBsmtSF', 'YearRemodAdd', 'Fireplaces', '1stFlrSF',\n",
       "       'TotRmsAbvGrd', 'OpenPorchSF', 'LotArea', '...\n",
       "                                              ExtraTreesRegressor(n_jobs=-1))]),\n",
       "                   n_iter=30,\n",
       "                   param_distributions={'Predict__bootstrap': [False, True],\n",
       "                                        'Predict__max_features': <scipy.stats._distn_infrastructure.rv_frozen object at 0x000001B7A177DF40>,\n",
       "                                        'Predict__n_estimators': <scipy.stats._distn_infrastructure.rv_frozen object at 0x000001B7A1783E80>,\n",
       "                                        'Transform__Numerical__Preprocess__k': [26]},\n",
       "                   scoring='neg_mean_squared_log_error')"
      ]
     },
     "execution_count": 225,
     "metadata": {},
     "output_type": "execute_result"
    }
   ],
   "source": [
    "grid_full_pipe_RF.fit(X, y)"
   ]
  },
  {
   "cell_type": "code",
   "execution_count": 228,
   "id": "ec45c96e",
   "metadata": {},
   "outputs": [
    {
     "data": {
      "text/plain": [
       "-0.018590455405247647"
      ]
     },
     "execution_count": 228,
     "metadata": {},
     "output_type": "execute_result"
    }
   ],
   "source": [
    "grid_full_pipe_RF.best_score_"
   ]
  },
  {
   "cell_type": "code",
   "execution_count": 235,
   "id": "bc6a1e3e",
   "metadata": {},
   "outputs": [
    {
     "data": {
      "text/plain": [
       "(array([-0.01916892, -0.01926158, -0.01859046, -0.01935044, -0.01923471,\n",
       "        -0.01972934, -0.0190666 , -0.01924418, -0.01883609, -0.01938761,\n",
       "        -0.01905131, -0.0188836 , -0.01926618, -0.01899516, -0.01913515,\n",
       "        -0.01941457, -0.01939885, -0.0192223 , -0.01943783, -0.01906005,\n",
       "        -0.01926678, -0.01962699, -0.01906127, -0.01911035, -0.01939431,\n",
       "        -0.01885474, -0.01890687, -0.01907298, -0.0188659 , -0.01904454]),\n",
       " array([0.00550554, 0.00510945, 0.00507504, 0.00527681, 0.00525819,\n",
       "        0.00551571, 0.00512225, 0.00541422, 0.00557532, 0.00542238,\n",
       "        0.00526204, 0.00532705, 0.00525353, 0.00547927, 0.00517364,\n",
       "        0.00541947, 0.00542083, 0.00537388, 0.00573941, 0.00517752,\n",
       "        0.00525447, 0.00544002, 0.00549473, 0.00535931, 0.00529363,\n",
       "        0.00524663, 0.00531994, 0.00528503, 0.0054152 , 0.00508617]))"
      ]
     },
     "execution_count": 235,
     "metadata": {},
     "output_type": "execute_result"
    }
   ],
   "source": [
    "grid_full_pipe_RF.cv_results_['mean_test_score'], grid_full_pipe_RF.cv_results_['std_test_score']"
   ]
  },
  {
   "cell_type": "code",
   "execution_count": 238,
   "id": "bffb0d7c",
   "metadata": {},
   "outputs": [],
   "source": [
    "write_test(grid_full_pipe_RF.best_estimator_, 'RF_Num_Neighborhood_Tunned2.csv')"
   ]
  }
 ],
 "metadata": {
  "kernelspec": {
   "display_name": "Python 3 (ipykernel)",
   "language": "python",
   "name": "python3"
  },
  "language_info": {
   "codemirror_mode": {
    "name": "ipython",
    "version": 3
   },
   "file_extension": ".py",
   "mimetype": "text/x-python",
   "name": "python",
   "nbconvert_exporter": "python",
   "pygments_lexer": "ipython3",
   "version": "3.9.7"
  }
 },
 "nbformat": 4,
 "nbformat_minor": 5
}
