{
 "cells": [
  {
   "cell_type": "code",
   "execution_count": 154,
   "id": "1d079572",
   "metadata": {},
   "outputs": [],
   "source": [
    "%matplotlib inline\n",
    "import numpy as np\n",
    "import pandas as pd\n",
    "import matplotlib.pyplot as plt\n",
    "import seaborn as sns\n",
    "from tensorflow import keras\n",
    "from sklearn.preprocessing import StandardScaler\n",
    "from sklearn.impute import SimpleImputer\n",
    "from sklearn.pipeline import Pipeline\n",
    "from sklearn.compose import ColumnTransformer\n",
    "from sklearn.base import BaseEstimator, TransformerMixin"
   ]
  },
  {
   "cell_type": "code",
   "execution_count": 155,
   "id": "967af17c",
   "metadata": {},
   "outputs": [],
   "source": [
    "df_train = pd.read_csv('train.csv')\n",
    "X_test = pd.read_csv('test.csv')"
   ]
  },
  {
   "cell_type": "code",
   "execution_count": 6,
   "id": "5d1bf633",
   "metadata": {},
   "outputs": [],
   "source": [
    "X_train = df_train.drop(['SalePrice'], axis=1)\n",
    "y_train = df_train['SalePrice']"
   ]
  },
  {
   "cell_type": "markdown",
   "id": "a9bef890",
   "metadata": {},
   "source": [
    "# 1- Basic Preprocessing"
   ]
  },
  {
   "cell_type": "markdown",
   "id": "b2ff2118",
   "metadata": {},
   "source": [
    "Basic preprocessing transformer to perform feature_engineer and so on. Reduce uninportant variables."
   ]
  },
  {
   "cell_type": "code",
   "execution_count": 7,
   "id": "61215b4e",
   "metadata": {},
   "outputs": [],
   "source": [
    "num_cols = X_train.columns[X_train.dtypes != 'object']"
   ]
  },
  {
   "cell_type": "code",
   "execution_count": 8,
   "id": "eeeb6cac",
   "metadata": {
    "scrolled": false
   },
   "outputs": [
    {
     "data": {
      "text/plain": [
       "Index(['Id', 'MSSubClass', 'LotFrontage', 'LotArea', 'OverallQual',\n",
       "       'OverallCond', 'YearBuilt', 'YearRemodAdd', 'MasVnrArea', 'BsmtFinSF1',\n",
       "       'BsmtFinSF2', 'BsmtUnfSF', 'TotalBsmtSF', '1stFlrSF', '2ndFlrSF',\n",
       "       'LowQualFinSF', 'GrLivArea', 'BsmtFullBath', 'BsmtHalfBath', 'FullBath',\n",
       "       'HalfBath', 'BedroomAbvGr', 'KitchenAbvGr', 'TotRmsAbvGrd',\n",
       "       'Fireplaces', 'GarageYrBlt', 'GarageCars', 'GarageArea', 'WoodDeckSF',\n",
       "       'OpenPorchSF', 'EnclosedPorch', '3SsnPorch', 'ScreenPorch', 'PoolArea',\n",
       "       'MiscVal', 'MoSold', 'YrSold'],\n",
       "      dtype='object')"
      ]
     },
     "execution_count": 8,
     "metadata": {},
     "output_type": "execute_result"
    }
   ],
   "source": [
    "num_cols"
   ]
  },
  {
   "cell_type": "markdown",
   "id": "0170d1e8",
   "metadata": {},
   "source": [
    "## 1.1 Numeric Variables"
   ]
  },
  {
   "cell_type": "markdown",
   "id": "5d3e1dde",
   "metadata": {},
   "source": [
    "* **GrLivArea = 1stFlrSF + 2ndFlrSF + LowQualFinSF, one variable is redundant. Drop 2ndFlrSF. Drop LowQualFinSF, because it has few non zero values**"
   ]
  },
  {
   "cell_type": "code",
   "execution_count": 40,
   "id": "08c5cd0f",
   "metadata": {},
   "outputs": [
    {
     "data": {
      "text/plain": [
       "1.0"
      ]
     },
     "execution_count": 40,
     "metadata": {},
     "output_type": "execute_result"
    }
   ],
   "source": [
    "np.mean(X_train['GrLivArea'] == (X_train['1stFlrSF'] + X_train['2ndFlrSF'] + X_train['LowQualFinSF']))"
   ]
  },
  {
   "cell_type": "code",
   "execution_count": 107,
   "id": "76cc39fa",
   "metadata": {},
   "outputs": [
    {
     "data": {
      "text/plain": [
       "0.01780821917808219"
      ]
     },
     "execution_count": 107,
     "metadata": {},
     "output_type": "execute_result"
    }
   ],
   "source": [
    "np.mean(X_train['LowQualFinSF'] > 0)"
   ]
  },
  {
   "cell_type": "markdown",
   "id": "593eddee",
   "metadata": {},
   "source": [
    "* **TotalBsmtSF = BsmtFinSF1 + BsmtFinSF2 + BsmtUnfSF. Redundancy, drop BsmtFinSF2**"
   ]
  },
  {
   "cell_type": "code",
   "execution_count": 41,
   "id": "7531afbc",
   "metadata": {},
   "outputs": [
    {
     "data": {
      "text/plain": [
       "1.0"
      ]
     },
     "execution_count": 41,
     "metadata": {},
     "output_type": "execute_result"
    }
   ],
   "source": [
    "np.mean(X_train['TotalBsmtSF'] == (X_train['BsmtFinSF1']+X_train['BsmtFinSF2']+X_train['BsmtUnfSF']))"
   ]
  },
  {
   "cell_type": "markdown",
   "id": "08a25976",
   "metadata": {},
   "source": [
    "* **BsmtHalfBath has almost no variance. Most of it is zero. Can be removed**"
   ]
  },
  {
   "cell_type": "code",
   "execution_count": 45,
   "id": "42e1416d",
   "metadata": {},
   "outputs": [
    {
     "data": {
      "text/plain": [
       "0.056164383561643834"
      ]
     },
     "execution_count": 45,
     "metadata": {},
     "output_type": "execute_result"
    }
   ],
   "source": [
    "np.mean(X_explore['BsmtHalfBath'] > 0)"
   ]
  },
  {
   "cell_type": "markdown",
   "id": "e8f875ca",
   "metadata": {},
   "source": [
    "* **MiscVal should be removed, its number represents different things. To hard to deal with at this moment**"
   ]
  },
  {
   "cell_type": "code",
   "execution_count": 58,
   "id": "b276abc2",
   "metadata": {},
   "outputs": [
    {
     "data": {
      "text/plain": [
       "count      1460\n",
       "unique        2\n",
       "top       False\n",
       "freq       1408\n",
       "Name: MiscVal, dtype: object"
      ]
     },
     "execution_count": 58,
     "metadata": {},
     "output_type": "execute_result"
    }
   ],
   "source": [
    "(X_train['MiscVal'] > 0).describe()"
   ]
  },
  {
   "cell_type": "markdown",
   "id": "5fa4ec74",
   "metadata": {},
   "source": [
    "* **Lot Frontage has missing values, which probably mean some houses have no Lot Frontage, input with  zeros**"
   ]
  },
  {
   "cell_type": "code",
   "execution_count": 64,
   "id": "282f8a1b",
   "metadata": {},
   "outputs": [
    {
     "data": {
      "text/plain": [
       "259"
      ]
     },
     "execution_count": 64,
     "metadata": {},
     "output_type": "execute_result"
    }
   ],
   "source": [
    "sum(pd.isna(X_train['LotFrontage']))"
   ]
  },
  {
   "cell_type": "markdown",
   "id": "de902c35",
   "metadata": {},
   "source": [
    "* **GarageYearBlt has missing values (When there is no garage). Input with zero**"
   ]
  },
  {
   "cell_type": "code",
   "execution_count": 70,
   "id": "9261f8fd",
   "metadata": {},
   "outputs": [
    {
     "data": {
      "text/plain": [
       "81"
      ]
     },
     "execution_count": 70,
     "metadata": {},
     "output_type": "execute_result"
    }
   ],
   "source": [
    "sum(pd.isna(X_train['GarageYrBlt'])) "
   ]
  },
  {
   "cell_type": "code",
   "execution_count": 85,
   "id": "097ee644",
   "metadata": {},
   "outputs": [
    {
     "data": {
      "text/plain": [
       "0.7828767123287671"
      ]
     },
     "execution_count": 85,
     "metadata": {},
     "output_type": "execute_result"
    }
   ],
   "source": [
    "np.mean((X_train['GarageYrBlt'] == X_train['YearBuilt']) | (X_train['GarageYrBlt'] == X_train['YearRemodAdd']))"
   ]
  },
  {
   "cell_type": "markdown",
   "id": "02dc66ac",
   "metadata": {},
   "source": [
    "* **MoSold doesn't add much value to the model, would only add noise. The month a house is sold doesn't, have much impact on its price. Drop**"
   ]
  },
  {
   "cell_type": "markdown",
   "id": "8b60c83d",
   "metadata": {},
   "source": [
    "* **Most values of Pool Area are 0 (Means the house doesn't have a pool). Drop**"
   ]
  },
  {
   "cell_type": "code",
   "execution_count": 94,
   "id": "b81e5319",
   "metadata": {},
   "outputs": [
    {
     "data": {
      "text/plain": [
       "(0.004794520547945206, 7)"
      ]
     },
     "execution_count": 94,
     "metadata": {},
     "output_type": "execute_result"
    }
   ],
   "source": [
    "np.mean(X_train['PoolArea'] > 0), np.sum(X_train['PoolArea'] > 0)"
   ]
  },
  {
   "cell_type": "code",
   "execution_count": 239,
   "id": "2e811bf9",
   "metadata": {},
   "outputs": [],
   "source": [
    "class Preprocessing_Numeric(BaseEstimator, TransformerMixin):\n",
    "    def __init__(self,age=True, grl=False):\n",
    "        self.age = age\n",
    "        self.grl = grl\n",
    "    def fit(self, X, y=None):\n",
    "        return self\n",
    "    def transform(self, X, y=None):\n",
    "        Xt = X.copy()\n",
    "        # Setting index as Id\n",
    "        Xt = Xt.set_index(['Id'])\n",
    "        \n",
    "        # Since GrLivArea = 1stFlrSF + 2ndFlrSF, one variable is redundant. Drop 2ndFlrSF.Drop LowQualFinSF, \n",
    "        #because it has few non zero values\n",
    "        Xt = Xt.drop(['2ndFlrSF', 'LowQualFinSF'], axis=1)\n",
    "        \n",
    "        # Since TotalBsmtSF = BsmtFinSF1 + BsmtFinSF2 + BsmtUnfSF. Redundancy, drop BsmtFinSF2\n",
    "        Xt = Xt.drop(['BsmtFinSF2'], axis=1)\n",
    "        \n",
    "        # BsmtHalfBath has almost no variance. Most of it is zero. Can be removed\n",
    "        Xt = Xt.drop(['BsmtHalfBath'], axis=1)\n",
    "        \n",
    "        # MiscVal should be removed, its number represents different things. To hard to deal with at this moment\n",
    "        Xt = Xt.drop(['MiscVal'], axis=1)\n",
    "        \n",
    "        # Lot Frontage has missing values, which probably mean some houses have no Lot Frontage, input with  zeros\n",
    "        Xt['LotFrontage'] = Xt['LotFrontage'].fillna(0)\n",
    "        \n",
    "        # GarageYearBlt has missing values (When there is no garage). Input with zero\n",
    "        Xt['GarageYrBlt'] = Xt['GarageYrBlt'].fillna(0)\n",
    "        \n",
    "        # MiscVal should be removed, its number represents different things. To hard to deal with at this moment\n",
    "        Xt = Xt.drop(['MoSold'], axis=1)\n",
    "        \n",
    "        # Most values of Pool Area are 0 (Means the house doesn't have a pool). Drop\n",
    "        Xt = Xt.drop(['PoolArea'], axis=1)\n",
    "        \n",
    "        ''' Feature engineering options '''\n",
    "        if self.age:\n",
    "            # Takes the mean of the house age and the remodel age at the time of sale\n",
    "            Xt['Age'] = (2*Xt['YrSold'] - Xt['YearBuilt'] - Xt['YearRemodAdd'])/2\n",
    "            Xt = Xt.drop(['YrSold', 'YearBuilt', 'YearRemodAdd'], axis=1)\n",
    "        if self.grl:\n",
    "            # Multicollinearity between GrLivArea and 1stFlrSF --> Keep GrLivArea and 1stFlrSF/GrLivArea\n",
    "            Xt['1stFlr_ratio'] = Xt['1stFlrSF']/Xt['GrLivArea']\n",
    "            Xt = Xt.drop(['1stFlrSF'], axis=1)            \n",
    "        return Xt"
   ]
  },
  {
   "cell_type": "markdown",
   "id": "e00545c9",
   "metadata": {},
   "source": [
    "## 1.2 Ordinal Variables"
   ]
  },
  {
   "cell_type": "markdown",
   "id": "f0154074",
   "metadata": {},
   "source": [
    "## 1.3 Nominal Variables"
   ]
  },
  {
   "cell_type": "markdown",
   "id": "c36dd60d",
   "metadata": {},
   "source": [
    "# 2 - Full preprocessing Pipeline"
   ]
  },
  {
   "cell_type": "markdown",
   "id": "3ec6a53d",
   "metadata": {},
   "source": [
    "Includes, Feature Engineering, Imputation, and Scaling"
   ]
  },
  {
   "cell_type": "code",
   "execution_count": 240,
   "id": "87915413",
   "metadata": {},
   "outputs": [],
   "source": [
    "pipe_preprocessing = Pipeline([\n",
    "    ('Preprocessing_Numeric', Preprocessing_Numeric()),\n",
    "    #('Preprocessing_Ordinal', Preprocessing_Ordinal()),\n",
    "    #('Preprocessing_Nominal', Preprocessing_Nominal())\n",
    "    #('Imputation', SimpleImputer(strategy='constant', fill_value=0))\n",
    "    ('Scaling', StandardScaler())\n",
    "])"
   ]
  },
  {
   "cell_type": "markdown",
   "id": "03be5a88",
   "metadata": {},
   "source": [
    "# 3 - Creating a generic Sequential Neural Network Regresor with Keras"
   ]
  },
  {
   "cell_type": "markdown",
   "id": "3b6f0bd0",
   "metadata": {},
   "source": [
    "### 3.1 Creating the function to generate an RNA with given parameters"
   ]
  },
  {
   "cell_type": "code",
   "execution_count": 237,
   "id": "d7c16f5b",
   "metadata": {},
   "outputs": [],
   "source": [
    "def Sequential_RNA_Regressor(n_hidden=2, n_neurons_hidden=30, \n",
    "                             activation_hidden='relu', weights_method='he_normal',\n",
    "                            loss='mse',\n",
    "                            lr=1e-3):\n",
    "    # n_hidden = Number of Hidden Layers (Integer)\n",
    "    # n_neurons_hidden = Number of neurons for each layer (Integer (Broadcast to all layers) or List (Each entry for each layer))\n",
    "    # activation_hidden = Activation function for the hidden layers\n",
    "    # weights_method = Method used to initialize weights (Default: he_normal | Good for RElU and variants, \n",
    "    # for SElU must be lecun_normal)\n",
    "    \n",
    "    \n",
    "    # loss = Loss function for to be minimized\n",
    "    # lr = Learning rate for the optimizer (In this case the keras.optimizers.SGD (Stochastic Gradient Descent))\n",
    "    \n",
    "    # If n_neurons_hidden is an integer, broadcast\n",
    "    if isinstance(n_neurons_hidden, int):\n",
    "        n_neurons_hidden = [n_neurons_hidden for i in range(n_hidden)]\n",
    "    \n",
    "    model = keras.models.Sequential()\n",
    "\n",
    "    \n",
    "    ## In this approach Keras will have to guess the input shape at the start of training. Because the input_shape depends\n",
    "    # on the Preprocessing Pipeline hyperparameters chosen\n",
    "    \n",
    "    for i in range(n_hidden):\n",
    "        model.add(keras.layers.Dense(n_neurons_hidden[i], activation=activation_hidden, kernel_initializer=weights_method,\n",
    "                 name='Hidden_{}'.format(i+1)))\n",
    "    \n",
    "\n",
    "    # Output layer. Regressor so just one neuron with no activation function\n",
    "    model.add(keras.layers.Dense(1,name='Output_Layer'))\n",
    "    \n",
    "    # Compiling the model\n",
    "    model.compile(loss=loss,\n",
    "                 optimizer=keras.optimizers.SGD(learning_rate=lr))\n",
    "    return model"
   ]
  },
  {
   "cell_type": "markdown",
   "id": "0d59ba5f",
   "metadata": {},
   "source": [
    "### 3.2 Wrapping the keras model as an Sckit-Learn Regressor to make it compatible for hyperparameter tuning"
   ]
  },
  {
   "cell_type": "code",
   "execution_count": 247,
   "id": "602834b3",
   "metadata": {},
   "outputs": [
    {
     "name": "stderr",
     "output_type": "stream",
     "text": [
      "C:\\Users\\vmrod\\AppData\\Local\\Temp/ipykernel_4108/3889148913.py:1: DeprecationWarning: KerasRegressor is deprecated, use Sci-Keras (https://github.com/adriangb/scikeras) instead. See https://www.adriangb.com/scikeras/stable/migration.html for help migrating.\n",
      "  rna_sk_regressor = keras.wrappers.scikit_learn.KerasRegressor(Sequential_RNA_Regressor)\n"
     ]
    }
   ],
   "source": [
    "rna_sk_regressor = keras.wrappers.scikit_learn.KerasRegressor(Sequential_RNA_Regressor)"
   ]
  },
  {
   "cell_type": "code",
   "execution_count": null,
   "id": "f0fe801c",
   "metadata": {},
   "outputs": [],
   "source": []
  }
 ],
 "metadata": {
  "kernelspec": {
   "display_name": "Python 3 (ipykernel)",
   "language": "python",
   "name": "python3"
  },
  "language_info": {
   "codemirror_mode": {
    "name": "ipython",
    "version": 3
   },
   "file_extension": ".py",
   "mimetype": "text/x-python",
   "name": "python",
   "nbconvert_exporter": "python",
   "pygments_lexer": "ipython3",
   "version": "3.9.7"
  }
 },
 "nbformat": 4,
 "nbformat_minor": 5
}
