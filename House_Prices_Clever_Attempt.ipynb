{
 "cells": [
  {
   "cell_type": "code",
   "execution_count": 192,
   "id": "708066eb",
   "metadata": {},
   "outputs": [],
   "source": [
    "%matplotlib inline\n",
    "import numpy as np\n",
    "import pandas as pd\n",
    "import matplotlib.pyplot as plt\n",
    "import seaborn as sns\n",
    "import warnings\n",
    "import category_encoders as ce\n",
    "from scipy.stats.distributions import randint, uniform\n",
    "from sklearn.base import BaseEstimator, TransformerMixin\n",
    "from sklearn.impute import SimpleImputer\n",
    "from sklearn.preprocessing import StandardScaler\n",
    "from sklearn.pipeline import Pipeline\n",
    "from sklearn.compose import ColumnTransformer\n",
    "from sklearn.ensemble import RandomForestRegressor, ExtraTreesRegressor\n",
    "from sklearn.model_selection import RandomizedSearchCV, GridSearchCV, cross_val_score"
   ]
  },
  {
   "cell_type": "code",
   "execution_count": 193,
   "id": "c2fddf2e",
   "metadata": {},
   "outputs": [],
   "source": [
    "warnings.filterwarnings('ignore')"
   ]
  },
  {
   "cell_type": "code",
   "execution_count": 2,
   "id": "b2e3753d",
   "metadata": {},
   "outputs": [],
   "source": [
    "df = pd.read_csv('train.csv')"
   ]
  },
  {
   "cell_type": "code",
   "execution_count": 174,
   "id": "79b37eee",
   "metadata": {},
   "outputs": [],
   "source": [
    "X = df.drop(['SalePrice'], axis=1)"
   ]
  },
  {
   "cell_type": "code",
   "execution_count": 12,
   "id": "3a62a854",
   "metadata": {},
   "outputs": [],
   "source": [
    "num_cols = df.columns[df.dtypes == 'int64'].drop(['Id', 'MSSubClass', 'MoSold', 'MiscVal', 'SalePrice','OverallQual',\n",
    "                                                 'OverallCond'])"
   ]
  },
  {
   "cell_type": "code",
   "execution_count": 13,
   "id": "d5d5218b",
   "metadata": {},
   "outputs": [
    {
     "data": {
      "text/plain": [
       "Index(['LotArea', 'YearBuilt', 'YearRemodAdd', 'BsmtFinSF1', 'BsmtFinSF2',\n",
       "       'BsmtUnfSF', 'TotalBsmtSF', '1stFlrSF', '2ndFlrSF', 'LowQualFinSF',\n",
       "       'GrLivArea', 'BsmtFullBath', 'BsmtHalfBath', 'FullBath', 'HalfBath',\n",
       "       'BedroomAbvGr', 'KitchenAbvGr', 'TotRmsAbvGrd', 'Fireplaces',\n",
       "       'GarageCars', 'GarageArea', 'WoodDeckSF', 'OpenPorchSF',\n",
       "       'EnclosedPorch', '3SsnPorch', 'ScreenPorch', 'PoolArea', 'YrSold'],\n",
       "      dtype='object')"
      ]
     },
     "execution_count": 13,
     "metadata": {},
     "output_type": "execute_result"
    }
   ],
   "source": [
    "num_cols"
   ]
  },
  {
   "cell_type": "code",
   "execution_count": 14,
   "id": "2a7d9372",
   "metadata": {},
   "outputs": [],
   "source": [
    "X_num = df[num_cols]\n",
    "y = df['SalePrice']"
   ]
  },
  {
   "cell_type": "markdown",
   "id": "a8c777e8",
   "metadata": {},
   "source": [
    "* **GrLivArea = 1stFlrSF + 2ndFlrSF**\n",
    "\n",
    "    Pop: 1stFlrSF, 2ndFlrSF   \n",
    "    Keep: GrLivArea  \n",
    "    Create: 1stFlrRatio = 1stFlrSF/GrLivArea\n",
    "* **Merge All Porchs**\n",
    "    Porch = EnclosedPorch, 3SsnPorch, ScreenPorch, OpenPorchSF\n",
    "    "
   ]
  },
  {
   "cell_type": "code",
   "execution_count": 175,
   "id": "1103268d",
   "metadata": {},
   "outputs": [],
   "source": [
    "def write_test(mod,name):\n",
    "    df_t = pd.read_csv('test.csv')\n",
    "    df_pred = pd.concat([df_t.Id, pd.Series(mod.predict(df_t), name='SalePrice')], axis=1)\n",
    "    df_pred.to_csv(name, index=False)"
   ]
  },
  {
   "cell_type": "code",
   "execution_count": 254,
   "id": "8d93425b",
   "metadata": {},
   "outputs": [],
   "source": [
    "class PreProcessor(TransformerMixin, BaseEstimator):\n",
    "    def __init__(self):\n",
    "        pass\n",
    "    def fit(self, X, y=None):\n",
    "        return self\n",
    "    def transform(self, X, y=None):\n",
    "        Xt = X.copy()\n",
    "        Xt['House_Age'] = (2*Xt['YrSold'] - Xt['YearBuilt'] - Xt['YearRemodAdd'])/2\n",
    "        Xt['1stFlrRatio'] = Xt['1stFlrSF']/Xt['GrLivArea']\n",
    "        Xt['Porch'] = (Xt['EnclosedPorch'] + Xt['3SsnPorch'] + Xt['ScreenPorch'] + Xt['OpenPorchSF'])\n",
    "        Xt['Bath'] = (3*Xt['FullBath']/4 + Xt['HalfBath']/4)\n",
    "         \n",
    "        return Xt.drop(['YrSold', 'YearBuilt', 'YearRemodAdd', '2ndFlrSF',\n",
    "                       'EnclosedPorch', '3SsnPorch', 'ScreenPorch', 'OpenPorchSF',\n",
    "                       'PoolArea', 'WoodDeckSF', 'BsmtFinSF2', 'BsmtUnfSF', 'TotalBsmtSF',\n",
    "                       'LowQualFinSF', 'BsmtHalfBath', 'FullBath', 'HalfBath'], axis=1)"
   ]
  },
  {
   "cell_type": "code",
   "execution_count": 243,
   "id": "6154acbf",
   "metadata": {},
   "outputs": [],
   "source": [
    "pipe_num = Pipeline([\n",
    " ('Basic_Pre', PreProcessor()),\n",
    " ('Impute_Basic', SimpleImputer(strategy='median')),\n",
    " #('Numeric_Scalor', StandardScaler()),\n",
    "])"
   ]
  },
  {
   "cell_type": "code",
   "execution_count": 270,
   "id": "3630819f",
   "metadata": {},
   "outputs": [],
   "source": [
    "pipe_all = ColumnTransformer([\n",
    "    ('Numeric', pipe_num, num_cols),\n",
    "    ('Categorical', ce.TargetEncoder(drop_invariant=True), ['Neighborhood', 'SaleType', 'SaleCondition',\n",
    "                                                           'Electrical', 'Heating', 'Foundation', 'Exterior1st',\n",
    "                                                           'Condition1']),\n",
    "])"
   ]
  },
  {
   "cell_type": "code",
   "execution_count": 272,
   "id": "8489407d",
   "metadata": {},
   "outputs": [],
   "source": [
    "?ce.TargetEncoder"
   ]
  },
  {
   "cell_type": "code",
   "execution_count": 273,
   "id": "da1fab8e",
   "metadata": {},
   "outputs": [],
   "source": [
    "model_pipe = Pipeline([\n",
    "    ('Transform', pipe_all),\n",
    "    ('Model', RandomForestRegressor(n_jobs=-1))\n",
    "])"
   ]
  },
  {
   "cell_type": "code",
   "execution_count": 295,
   "id": "65bebaf0",
   "metadata": {},
   "outputs": [],
   "source": [
    "param_dist = {\n",
    "    'Model__n_estimators': [200],\n",
    "    'Model__max_features':[0.6],\n",
    "    'Transform__Categorical__smoothing':[0.6]\n",
    "}"
   ]
  },
  {
   "cell_type": "code",
   "execution_count": 296,
   "id": "23a32902",
   "metadata": {},
   "outputs": [],
   "source": [
    "grid_RF = RandomizedSearchCV(model_pipe, param_dist, cv=10, n_iter=10, \n",
    "                             scoring='neg_mean_squared_log_error',\n",
    "                             verbose=4, random_state=42)"
   ]
  },
  {
   "cell_type": "code",
   "execution_count": 297,
   "id": "480ca78d",
   "metadata": {},
   "outputs": [
    {
     "name": "stdout",
     "output_type": "stream",
     "text": [
      "Fitting 10 folds for each of 1 candidates, totalling 10 fits\n",
      "[CV 1/10] END Model__max_features=0.6, Model__n_estimators=200, Transform__Categorical__smoothing=0.6;, score=-0.020 total time=   0.7s\n",
      "[CV 2/10] END Model__max_features=0.6, Model__n_estimators=200, Transform__Categorical__smoothing=0.6;, score=-0.019 total time=   0.7s\n",
      "[CV 3/10] END Model__max_features=0.6, Model__n_estimators=200, Transform__Categorical__smoothing=0.6;, score=-0.020 total time=   0.7s\n",
      "[CV 4/10] END Model__max_features=0.6, Model__n_estimators=200, Transform__Categorical__smoothing=0.6;, score=-0.033 total time=   0.8s\n",
      "[CV 5/10] END Model__max_features=0.6, Model__n_estimators=200, Transform__Categorical__smoothing=0.6;, score=-0.032 total time=   0.8s\n",
      "[CV 6/10] END Model__max_features=0.6, Model__n_estimators=200, Transform__Categorical__smoothing=0.6;, score=-0.015 total time=   0.9s\n",
      "[CV 7/10] END Model__max_features=0.6, Model__n_estimators=200, Transform__Categorical__smoothing=0.6;, score=-0.022 total time=   1.2s\n",
      "[CV 8/10] END Model__max_features=0.6, Model__n_estimators=200, Transform__Categorical__smoothing=0.6;, score=-0.020 total time=   1.0s\n",
      "[CV 9/10] END Model__max_features=0.6, Model__n_estimators=200, Transform__Categorical__smoothing=0.6;, score=-0.021 total time=   0.8s\n",
      "[CV 10/10] END Model__max_features=0.6, Model__n_estimators=200, Transform__Categorical__smoothing=0.6;, score=-0.025 total time=   0.8s\n"
     ]
    },
    {
     "data": {
      "text/plain": [
       "RandomizedSearchCV(cv=10,\n",
       "                   estimator=Pipeline(steps=[('Transform',\n",
       "                                              ColumnTransformer(transformers=[('Numeric',\n",
       "                                                                               Pipeline(steps=[('Basic_Pre',\n",
       "                                                                                                PreProcessor()),\n",
       "                                                                                               ('Impute_Basic',\n",
       "                                                                                                SimpleImputer(strategy='median'))]),\n",
       "                                                                               Index(['LotArea', 'YearBuilt', 'YearRemodAdd', 'BsmtFinSF1', 'BsmtFinSF2',\n",
       "       'BsmtUnfSF', 'TotalBsmtSF', '1stFlrSF', '2ndFlrSF', 'LowQualFinSF',\n",
       "       'GrLivArea', '...\n",
       "                                                                               TargetEncoder(drop_invariant=True),\n",
       "                                                                               ['Neighborhood',\n",
       "                                                                                'SaleType',\n",
       "                                                                                'SaleCondition',\n",
       "                                                                                'Electrical',\n",
       "                                                                                'Heating',\n",
       "                                                                                'Foundation',\n",
       "                                                                                'Exterior1st',\n",
       "                                                                                'Condition1'])])),\n",
       "                                             ('Model',\n",
       "                                              RandomForestRegressor(n_jobs=-1))]),\n",
       "                   param_distributions={'Model__max_features': [0.6],\n",
       "                                        'Model__n_estimators': [200],\n",
       "                                        'Transform__Categorical__smoothing': [0.6]},\n",
       "                   random_state=42, scoring='neg_mean_squared_log_error',\n",
       "                   verbose=4)"
      ]
     },
     "execution_count": 297,
     "metadata": {},
     "output_type": "execute_result"
    }
   ],
   "source": [
    "grid_RF.fit(X, y)"
   ]
  },
  {
   "cell_type": "code",
   "execution_count": 305,
   "id": "ca74c31e",
   "metadata": {},
   "outputs": [
    {
     "data": {
      "text/plain": [
       "(-0.02266955976236511,\n",
       " {'Transform__Categorical__smoothing': 0.6,\n",
       "  'Model__n_estimators': 200,\n",
       "  'Model__max_features': 0.6})"
      ]
     },
     "execution_count": 305,
     "metadata": {},
     "output_type": "execute_result"
    }
   ],
   "source": [
    "grid_RF.best_score_, grid_RF.best_params_"
   ]
  },
  {
   "cell_type": "code",
   "execution_count": 306,
   "id": "ae99c24c",
   "metadata": {},
   "outputs": [],
   "source": [
    "write_test(grid_RF.best_estimator_, 'RF_estimator_numeric_target_tuned(N3).csv')"
   ]
  }
 ],
 "metadata": {
  "kernelspec": {
   "display_name": "Python 3 (ipykernel)",
   "language": "python",
   "name": "python3"
  },
  "language_info": {
   "codemirror_mode": {
    "name": "ipython",
    "version": 3
   },
   "file_extension": ".py",
   "mimetype": "text/x-python",
   "name": "python",
   "nbconvert_exporter": "python",
   "pygments_lexer": "ipython3",
   "version": "3.9.7"
  }
 },
 "nbformat": 4,
 "nbformat_minor": 5
}
