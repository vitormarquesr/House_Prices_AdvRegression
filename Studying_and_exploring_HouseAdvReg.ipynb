{
 "cells": [
  {
   "cell_type": "markdown",
   "id": "60162602",
   "metadata": {},
   "source": [
    "# House Advanced Regression Lab"
   ]
  },
  {
   "cell_type": "code",
   "execution_count": 12,
   "id": "4be014bf",
   "metadata": {},
   "outputs": [],
   "source": [
    "%matplotlib inline\n",
    "import numpy as np\n",
    "import pandas as pd\n",
    "import matplotlib.pyplot as plt\n",
    "import seaborn as sns\n",
    "import category_encoders as ce\n",
    "import joblib\n",
    "from scipy.stats.distributions import uniform, randint\n",
    "from sklearn.base import TransformerMixin, BaseEstimator\n",
    "from sklearn.pipeline import Pipeline\n",
    "from sklearn.preprocessing import OneHotEncoder, StandardScaler\n",
    "from sklearn.ensemble import RandomForestRegressor, ExtraTreesRegressor\n",
    "from sklearn.linear_model import LinearRegression\n",
    "from sklearn.svm import SVR\n",
    "from sklearn.model_selection import cross_val_score, RandomizedSearchCV, GridSearchCV\n",
    "from sklearn.impute import SimpleImputer\n",
    "from sklearn.compose import ColumnTransformer"
   ]
  },
  {
   "cell_type": "code",
   "execution_count": 2,
   "id": "30aa4758",
   "metadata": {},
   "outputs": [],
   "source": [
    "df = pd.read_csv('train.csv')"
   ]
  },
  {
   "cell_type": "code",
   "execution_count": 3,
   "id": "a23cf5a1",
   "metadata": {},
   "outputs": [],
   "source": [
    "X = df.drop(['SalePrice'], axis=1)\n",
    "y = df['SalePrice']"
   ]
  },
  {
   "cell_type": "code",
   "execution_count": 4,
   "id": "c837c8c8",
   "metadata": {},
   "outputs": [],
   "source": [
    "num_cols = df.columns[(df.dtypes == 'int64').ravel()].drop(['Id', 'MSSubClass', 'SalePrice'])"
   ]
  },
  {
   "cell_type": "code",
   "execution_count": 5,
   "id": "a99afcb9",
   "metadata": {},
   "outputs": [],
   "source": [
    "df_num = df.loc[:, num_cols]"
   ]
  },
  {
   "cell_type": "code",
   "execution_count": 6,
   "id": "80ab6970",
   "metadata": {},
   "outputs": [
    {
     "data": {
      "text/plain": [
       "OverallQual           0.790982\n",
       "GrLivArea             0.708624\n",
       "GarageCars            0.640409\n",
       "GarageArea            0.623431\n",
       "TotalBsmtSF           0.613581\n",
       "1stFlrSF              0.605852\n",
       "FullBath              0.560664\n",
       "TotRmsAbvGrd          0.533723\n",
       "YearBuilt             0.522897\n",
       "YearRemodAdd          0.507101\n",
       "Fireplaces            0.466929\n",
       "BsmtFinSF1            0.386420\n",
       "WoodDeckSF            0.324413\n",
       "2ndFlrSF              0.319334\n",
       "OpenPorchSF           0.315856\n",
       "HalfBath              0.284108\n",
       "LotArea               0.263843\n",
       "BsmtFullBath          0.227122\n",
       "BsmtUnfSF             0.214479\n",
       "BedroomAbvGr          0.168213\n",
       "2ndFlrSF_Ratio        0.148097\n",
       "Bsmt_FinSF1_ratio     0.139733\n",
       "ScreenPorch           0.111447\n",
       "GarageArea_ratio      0.094723\n",
       "PoolArea              0.092404\n",
       "MoSold                0.046432\n",
       "3SsnPorch             0.044584\n",
       "BsmtFinSF2           -0.011378\n",
       "BsmtHalfBath         -0.016844\n",
       "MiscVal              -0.021190\n",
       "LowQualFinSF         -0.025606\n",
       "YrSold               -0.028923\n",
       "LowQualFinSF_ratio   -0.060327\n",
       "Bsmt_FinSF2_ratio    -0.069024\n",
       "OverallCond          -0.077856\n",
       "Bsmt_UnfSF_ratio     -0.105657\n",
       "EnclosedPorch        -0.128578\n",
       "KitchenAbvGr         -0.135907\n",
       "1stFlrSF_Ratio       -0.139866\n",
       "Bedroom_Ratio        -0.336085\n",
       "Kitchen_Ratio        -0.515290\n",
       "dtype: float64"
      ]
     },
     "execution_count": 6,
     "metadata": {},
     "output_type": "execute_result"
    }
   ],
   "source": [
    "df_t = df_num.copy()\n",
    "df_t['1stFlrSF_Ratio'] = df_t['1stFlrSF']/df_t['GrLivArea']\n",
    "df_t['2ndFlrSF_Ratio'] = df_t['2ndFlrSF']/df_t['GrLivArea']\n",
    "df_t['Bedroom_Ratio'] = df_t['BedroomAbvGr']/df_t['TotRmsAbvGrd']\n",
    "df_t['Kitchen_Ratio'] = df_t['KitchenAbvGr']/df_t['TotRmsAbvGrd']\n",
    "df_t['LowQualFinSF_ratio'] = df_t['LowQualFinSF']/df_t['GrLivArea']\n",
    "df_t['Bsmt_FinSF1_ratio'] = df_t['BsmtFinSF1']/df_t['TotalBsmtSF']\n",
    "df_t['Bsmt_FinSF2_ratio'] = df_t['BsmtFinSF2']/df_t['TotalBsmtSF']\n",
    "df_t['Bsmt_UnfSF_ratio'] = df_t['BsmtUnfSF']/df_t['TotalBsmtSF']\n",
    "df_t['GarageArea_ratio'] = df_t['GarageArea']/df_t['LotArea']\n",
    "\n",
    "df_t.corrwith(y).sort_values(ascending=False)"
   ]
  },
  {
   "cell_type": "code",
   "execution_count": 7,
   "id": "4d4b6aa4",
   "metadata": {},
   "outputs": [],
   "source": [
    "def write_test(mod,name):\n",
    "    df_t = pd.read_csv('test.csv')\n",
    "    df_pred = pd.concat([df_t.Id, pd.Series(mod.predict(df_t), name='SalePrice')], axis=1)\n",
    "    df_pred.to_csv(name, index=False)"
   ]
  },
  {
   "cell_type": "code",
   "execution_count": 8,
   "id": "dc061599",
   "metadata": {},
   "outputs": [],
   "source": [
    "class Transform_Vars(TransformerMixin, BaseEstimator):\n",
    "    def __init__(self, activate=True):\n",
    "        self.activate=activate\n",
    "    def fit(self, X, y=None):\n",
    "        return self\n",
    "    def transform(self, X, y=None):\n",
    "        Xt = X.copy()\n",
    "        if self.activate:\n",
    "            Xt['YearBuilt'] = (Xt['YrSold'] - Xt['YearBuilt'] + Xt['YrSold'] - Xt['YearRemodAdd'])/2\n",
    "            Xt['1stFlrSF'] = Xt['1stFlrSF']/Xt['GrLivArea']\n",
    "            Xt['2ndFlrSF'] = Xt['2ndFlrSF']/Xt['GrLivArea']\n",
    "            Xt['BedroomAbvGr'] = Xt['BedroomAbvGr']/Xt['TotRmsAbvGrd']\n",
    "            Xt['KitchenAbvGr'] = df_t['KitchenAbvGr']/Xt['TotRmsAbvGrd']\n",
    "            Xt['BsmtUnfSF'] = Xt['BsmtUnfSF']/Xt['TotalBsmtSF']\n",
    "            Xt['BsmtFinSF1'] = Xt['BsmtFinSF1']/Xt['TotalBsmtSF']\n",
    "            Xt['BsmtFinSF2'] = Xt['BsmtFinSF2']/Xt['TotalBsmtSF']\n",
    "            Xt['BsmtUnfSF'] = Xt['BsmtUnfSF']/Xt['TotalBsmtSF']\n",
    "            Xt['LowQualFinSF'] = Xt['LowQualFinSF']/Xt['GrLivArea']\n",
    "            \n",
    "        return Xt.drop(['YrSold', 'YearRemodAdd', 'MoSold', 'MiscVal',\n",
    "                           'PoolArea', '3SsnPorch'], axis=1)"
   ]
  },
  {
   "cell_type": "code",
   "execution_count": 9,
   "id": "7b68c06b",
   "metadata": {},
   "outputs": [],
   "source": [
    "X_num = df_num.copy()\n",
    "y = y.copy()"
   ]
  },
  {
   "cell_type": "code",
   "execution_count": 29,
   "id": "16554eda",
   "metadata": {},
   "outputs": [],
   "source": [
    "pipe_RF = Pipeline([\n",
    "    ('Preprocess', Transform_Vars()),\n",
    "    ('Impute_NA', SimpleImputer(strategy='constant', fill_value=0)),\n",
    "    ('Scale', StandardScaler()),\n",
    "    ('Predict', SVR(kernel='poly', degree=30))\n",
    "])"
   ]
  },
  {
   "cell_type": "code",
   "execution_count": null,
   "id": "5a759222",
   "metadata": {},
   "outputs": [],
   "source": [
    "cross_val_score(pipe_RF, X_num, y, cv=10, scoring='neg_mean_squared_log_error').mean()"
   ]
  }
 ],
 "metadata": {
  "kernelspec": {
   "display_name": "Python 3 (ipykernel)",
   "language": "python",
   "name": "python3"
  },
  "language_info": {
   "codemirror_mode": {
    "name": "ipython",
    "version": 3
   },
   "file_extension": ".py",
   "mimetype": "text/x-python",
   "name": "python",
   "nbconvert_exporter": "python",
   "pygments_lexer": "ipython3",
   "version": "3.9.7"
  }
 },
 "nbformat": 4,
 "nbformat_minor": 5
}
